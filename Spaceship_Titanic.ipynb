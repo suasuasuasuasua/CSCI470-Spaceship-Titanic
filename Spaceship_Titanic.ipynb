{
  "cells": [
    {
      "cell_type": "markdown",
      "metadata": {
        "id": "zMQz7gjBN72p"
      },
      "source": [
        "# Prerequistite Packages"
      ]
    },
    {
      "cell_type": "code",
      "execution_count": null,
      "metadata": {
        "id": "dxBeBwllSve-"
      },
      "outputs": [],
      "source": [
        "# Just comment and uncomment as necessary\n",
        "# The output is kinda annoying and crowded\n",
        "\n",
        "# Install packages\n",
        "# !pip install numpy\n",
        "# !pip install pandas\n",
        "# !pip install scikit-learn\n",
        "# !pip install tensorflow\n"
      ]
    },
    {
      "cell_type": "markdown",
      "metadata": {
        "id": "g1CK8AZBN722"
      },
      "source": [
        "# Imports"
      ]
    },
    {
      "cell_type": "code",
      "execution_count": null,
      "metadata": {
        "id": "QFmpN-PJUB_E"
      },
      "outputs": [],
      "source": [
        "import numpy as np\n",
        "import pandas as pd\n",
        "import sklearn as sk\n",
        "from sklearn.model_selection import train_test_split\n",
        "from sklearn.decomposition import PCA\n",
        "from sklearn.neighbors import KNeighborsClassifier\n",
        "import tensorflow as tf\n",
        "import matplotlib\n",
        "import matplotlib.pyplot as plt\n"
      ]
    },
    {
      "cell_type": "markdown",
      "metadata": {
        "id": "WPSwyaALN725"
      },
      "source": [
        "# Magic Constants"
      ]
    },
    {
      "cell_type": "code",
      "execution_count": null,
      "metadata": {
        "id": "4IY_qg3MN726"
      },
      "outputs": [],
      "source": [
        "# Filename\n",
        "FILE_PREFIX = \"./data/\"\n",
        "train_filename = FILE_PREFIX + \"train.csv\"\n",
        "test_filename = FILE_PREFIX + \"test.csv\"\n",
        "\n",
        "# Scrap me: test.csv doesn't include the transported column! Should always be false\n",
        "# Set to False if we want to only train and test on the train csv\n",
        "loadSeparateTestCsv = False\n",
        "\n",
        "# Set to true when we want to generate a submission for kaggle\n",
        "testSubmission = False\n",
        "\n",
        "# Common utility functions\n",
        "def checkNotSubmitting():\n",
        "    assert not testSubmission, \"Don't run this cell if creating a submission\"\n"
      ]
    },
    {
      "cell_type": "markdown",
      "metadata": {
        "id": "by5o5s-lN728"
      },
      "source": [
        "# Load and Split the File"
      ]
    },
    {
      "cell_type": "code",
      "execution_count": null,
      "metadata": {
        "id": "katpLGf8TMh_"
      },
      "outputs": [],
      "source": [
        "# We might want to mount a shared google drive so we don't have to reupload\n",
        "# everytime the session expires\n",
        "trainData = pd.read_csv(train_filename)\n",
        "data = None\n",
        "testData = None\n",
        "if loadSeparateTestCsv:\n",
        "    testData = pd.read_csv(test_filename)\n",
        "    data = pd.concat([trainData, testData])\n",
        "else:\n",
        "    data = trainData\n",
        "\n",
        "if testSubmission:\n",
        "    data = pd.read_csv(test_filename)\n",
        "\n",
        "# FEATURE MODIFICATION SETTINGS\n",
        "dropCols = [\"PassengerId\", \"Name\"]  # Columns to drop entirely\n",
        "# Binary columns to replace with 1's and 0's\n",
        "binaryCols = [\"CryoSleep\", \"VIP\", \"Transported\"]\n",
        "# Category columns that are commonly shared, dummies are built from these\n",
        "categoricalCols = []\n",
        "# Ok my idea for this is that for the fairly unique columns we should generate a numerical\n",
        "# id for each unique entry, then replace the column with the id. Generating dummies with these\n",
        "# just leads to a feature explosion.\n",
        "uniqueGeneratorCols = [\"Cabin\", \"HomePlanet\", \"Destination\"]\n",
        "###############################\n",
        "\n",
        "# Not sure why these features have NaN's, but we can (safely?) replace them with 0's.\n",
        "data[\"CryoSleep\"] = data[\"CryoSleep\"].fillna(value=False)\n",
        "data[\"VIP\"] = data[\"VIP\"].fillna(value=False)\n",
        "data[\"VRDeck\"] = data[\"VRDeck\"].fillna(value=0)\n",
        "data[\"ShoppingMall\"] = data[\"ShoppingMall\"].fillna(value=0)\n",
        "data[\"RoomService\"] = data[\"RoomService\"].fillna(value=0)\n",
        "data[\"FoodCourt\"] = data[\"FoodCourt\"].fillna(value=0)\n",
        "data[\"Spa\"] = data[\"Spa\"].fillna(value=0)\n",
        "# weird ones\n",
        "data[\"Cabin\"] = data[\"Cabin\"].fillna(value=\"UNKNOWN\")\n",
        "data[\"HomePlanet\"] = data[\"HomePlanet\"].fillna(value=\"UNKNOWN\")\n",
        "data[\"Destination\"] = data[\"Destination\"].fillna(value=\"UNKNOWN\")\n",
        "data[\"Age\"] = data[\"Age\"].fillna(value=-1)\n",
        "\n",
        "# test.csv doesn't have the transported column\n",
        "if testSubmission and \"Transported\" in binaryCols:\n",
        "    binaryCols.remove(\"Transported\")\n",
        "# We want to keep the passengerIds for submission\n",
        "if testSubmission and \"PassengerId\" in dropCols:\n",
        "    dropCols.remove(\"PassengerId\")\n",
        "\n",
        "data = data.drop(columns=dropCols)\n",
        "for c in binaryCols:\n",
        "    data[c] = data[c].astype(int)\n",
        "data = pd.get_dummies(data, columns=categoricalCols)\n",
        "# Generate unique ids per column\n",
        "for c in uniqueGeneratorCols:\n",
        "    data[c] = data[c].astype(\"category\").cat.rename_categories(\n",
        "        range(data[c].nunique()))\n",
        "\n",
        "# We don't want any nan data\n",
        "assert (not data.isnull().values.any())\n",
        "\n",
        "yCol = \"Transported\"\n",
        "X, y = None, None\n",
        "if not testSubmission:\n",
        "    X = data.drop(columns=yCol)\n",
        "    y = data[yCol]\n",
        "else:\n",
        "    X = data\n",
        "\n",
        "X_train, X_test, y_train, y_test = None, None, None, None\n",
        "if not testSubmission:\n",
        "    if testData is None:\n",
        "        X_train, X_test, y_train, y_test = train_test_split(X, y)\n",
        "    else:\n",
        "        X_train = X[: trainData.shape[0]]\n",
        "        X_test = X[trainData.shape[0]:]\n",
        "        y_train = y[: trainData.shape[0]]\n",
        "        y_test = y[trainData.shape[0]:]\n",
        "else:\n",
        "    X_test = X\n",
        "\n",
        "# print(data.head())\n",
        "# print(data.describe())\n"
      ]
    },
    {
      "cell_type": "markdown",
      "metadata": {
        "id": "1gMIjcYbN73B"
      },
      "source": [
        "# Data Visualization"
      ]
    },
    {
      "cell_type": "code",
      "execution_count": null,
      "metadata": {
        "colab": {
          "base_uri": "https://localhost:8080/",
          "height": 281
        },
        "id": "EvJyjTAtTOVb",
        "outputId": "2c23012e-aaf4-444e-ebcb-cb8f20f17ce2"
      },
      "outputs": [
        {
          "output_type": "display_data",
          "data": {
            "text/plain": [
              "<Figure size 432x288 with 1 Axes>"
            ],
            "image/png": "[encoded data removed]"
          },
          "metadata": {
            "needs_background": "light"
          }
        }
      ],
      "source": [
        "# tSNE or PCA here\n",
        "\n",
        "checkNotSubmitting()\n",
        "\n",
        "pcaComps = 2\n",
        "pca = PCA(n_components=pcaComps)\n",
        "pca_train = pca.fit_transform(X_train, y_train)\n",
        "pca_test = pca.transform(X_test)\n",
        "\n",
        "if pcaComps == 2:\n",
        "    plt.scatter(pca_train[:, 0], pca_train[:, 1], c=y_train)\n",
        "plt.title(f\"PCA Visualization ({pcaComps} component)\")\n",
        "plt.show()\n",
        "\n",
        "# Feature importance graphing\n",
        "# todo\n",
        "estimators = 100  # todo: grid search me!\n",
        "#gbc = GradientBoostingClassifier(n_estimators=100)\n",
        "#gbc.fit(X_train, y_train)\n",
        "# todo: render the important features\n",
        "# look at my roommates code here: https://github.com/justincdavis/BowlGamesNN/blob/main/CFBowlGamesNN.ipynb\n"
      ]
    },
    {
      "cell_type": "markdown",
      "metadata": {
        "id": "1tGKwE7RN73G"
      },
      "source": [
        "# Find Models\n",
        "\n",
        "As we are predicting which passengers have been sent to the anomaly, this is naturally a classification problem.\n",
        "\n",
        "https://scikit-learn.org/stable/tutorial/machine_learning_map/index.html\n",
        "\n",
        "Here, we'll explore supervised, classification models. Some are better than others."
      ]
    },
    {
      "cell_type": "code",
      "execution_count": null,
      "metadata": {
        "id": "2oS5-sKDN73H"
      },
      "outputs": [],
      "source": [
        "# Models\n",
        "from sklearn.svm import SVC, LinearSVC\n",
        "from sklearn.naive_bayes import GaussianNB, BernoulliNB\n",
        "from sklearn.linear_model import SGDClassifier\n",
        "from sklearn.model_selection import GridSearchCV\n",
        "\n",
        "# Metrics\n",
        "from sklearn.metrics import f1_score\n",
        "from sklearn.metrics import mean_squared_error\n",
        "from sklearn.metrics import classification_report\n"
      ]
    },
    {
      "cell_type": "markdown",
      "metadata": {
        "id": "3mAkLulJN73I"
      },
      "source": [
        "## K Nearest Neighbors\n",
        "\n",
        "https://scikit-learn.org/stable/modules/generated/sklearn.neighbors.KNeighborsClassifier.html"
      ]
    },
    {
      "cell_type": "code",
      "execution_count": null,
      "metadata": {
        "id": "6tdaaDXiN73J",
        "outputId": "f11eb894-cf54-4881-9eaf-a0995244c1ba",
        "colab": {
          "base_uri": "https://localhost:8080/"
        }
      },
      "outputs": [
        {
          "output_type": "stream",
          "name": "stdout",
          "text": [
            "Weight: distance\n",
            "              precision    recall  f1-score   support\n",
            "\n",
            "           0       0.81      0.73      0.77      1072\n",
            "           1       0.76      0.84      0.80      1102\n",
            "\n",
            "    accuracy                           0.78      2174\n",
            "   macro avg       0.79      0.78      0.78      2174\n",
            "weighted avg       0.79      0.78      0.78      2174\n",
            "\n",
            "Weight: uniform\n",
            "              precision    recall  f1-score   support\n",
            "\n",
            "           0       0.82      0.73      0.77      1072\n",
            "           1       0.76      0.84      0.80      1102\n",
            "\n",
            "    accuracy                           0.79      2174\n",
            "   macro avg       0.79      0.79      0.79      2174\n",
            "weighted avg       0.79      0.79      0.79      2174\n",
            "\n"
          ]
        }
      ],
      "source": [
        "best_n = 0\n",
        "best_f1 = 0\n",
        "best_predictions = 0\n",
        "\n",
        "max_neighbors = 201\n",
        "weights = [\"distance\", \"uniform\"]\n",
        "for weight in weights:\n",
        "    for n_neighbors in range(1, max_neighbors):\n",
        "        clf = KNeighborsClassifier(\n",
        "            n_neighbors=n_neighbors, weights=weight, n_jobs=-1).fit(X=X_train, y=y_train)\n",
        "\n",
        "        predictions = clf.predict(X=X_test)\n",
        "        f1 = f1_score(y_true=y_test, y_pred=predictions)\n",
        "\n",
        "        if f1 > best_f1:\n",
        "            best_f1 = f1\n",
        "            best_n = n_neighbors\n",
        "            best_predictions = predictions\n",
        "\n",
        "    print(f\"Weight: {weight}\")\n",
        "    print(classification_report(y_true=y_test, y_pred=best_predictions))\n"
      ]
    },
    {
      "cell_type": "markdown",
      "metadata": {
        "id": "4Xings11N73K"
      },
      "source": [
        "## SVCs\n",
        "\n",
        "https://scikit-learn.org/stable/modules/generated/sklearn.svm.SVC.html#sklearn.svm.SVC\n",
        "\n",
        "https://scikit-learn.org/stable/modules/generated/sklearn.svm.LinearSVC.html#sklearn.svm.LinearSVC"
      ]
    },
    {
      "cell_type": "code",
      "execution_count": null,
      "metadata": {
        "id": "UuEgRO-wN73L",
        "outputId": "9adf6eca-7097-4a9f-a36c-752515d5b89e",
        "colab": {
          "base_uri": "https://localhost:8080/"
        }
      },
      "outputs": [
        {
          "output_type": "stream",
          "name": "stdout",
          "text": [
            "Model: SVC()\n",
            "Kernel: rbf\n",
            "              precision    recall  f1-score   support\n",
            "\n",
            "           0       0.86      0.66      0.75      1072\n",
            "           1       0.73      0.89      0.80      1102\n",
            "\n",
            "    accuracy                           0.78      2174\n",
            "   macro avg       0.79      0.78      0.77      2174\n",
            "weighted avg       0.79      0.78      0.77      2174\n",
            "\n",
            "Model: SVC(kernel='sigmoid')\n",
            "Kernel: sigmoid\n",
            "              precision    recall  f1-score   support\n",
            "\n",
            "           0       0.48      0.45      0.46      1072\n",
            "           1       0.50      0.53      0.51      1102\n",
            "\n",
            "    accuracy                           0.49      2174\n",
            "   macro avg       0.49      0.49      0.49      2174\n",
            "weighted avg       0.49      0.49      0.49      2174\n",
            "\n",
            "Model: SVC(kernel='poly')\n",
            "Kernel: poly\n",
            "              precision    recall  f1-score   support\n",
            "\n",
            "           0       0.86      0.50      0.63      1072\n",
            "           1       0.66      0.92      0.77      1102\n",
            "\n",
            "    accuracy                           0.72      2174\n",
            "   macro avg       0.76      0.71      0.70      2174\n",
            "weighted avg       0.76      0.72      0.70      2174\n",
            "\n"
          ]
        }
      ],
      "source": [
        "# https://scikit-learn.org/stable/modules/generated/sklearn.svm.SVC.html\n",
        "kernels = {'poly', 'rbf', 'sigmoid'}\n",
        "\n",
        "for kernel in kernels:\n",
        "    clf = SVC(kernel=kernel, gamma=\"scale\").fit(X=X_train, y=y_train)\n",
        "    predictions = clf.predict(X=X_test)\n",
        "\n",
        "    print(f\"Model: {clf}\")\n",
        "    print(f\"Kernel: {kernel}\")\n",
        "    print(classification_report(y_true=y_test, y_pred=predictions))\n"
      ]
    },
    {
      "cell_type": "code",
      "execution_count": null,
      "metadata": {
        "id": "s-ucgOUjN73M",
        "outputId": "c8e9940d-eb5e-4ceb-9687-b5b2b9e80616",
        "colab": {
          "base_uri": "https://localhost:8080/"
        }
      },
      "outputs": [
        {
          "output_type": "stream",
          "name": "stdout",
          "text": [
            "Model: LinearSVC(dual=False, penalty='l1')\n",
            "              precision    recall  f1-score   support\n",
            "\n",
            "           0       0.78      0.77      0.77      1072\n",
            "           1       0.78      0.79      0.78      1102\n",
            "\n",
            "    accuracy                           0.78      2174\n",
            "   macro avg       0.78      0.78      0.78      2174\n",
            "weighted avg       0.78      0.78      0.78      2174\n",
            "\n",
            "Model: LinearSVC(dual=False)\n",
            "The f1 score is 0.7822944896115628\n",
            "              precision    recall  f1-score   support\n",
            "\n",
            "           0       0.78      0.77      0.77      1072\n",
            "           1       0.78      0.79      0.78      1102\n",
            "\n",
            "    accuracy                           0.78      2174\n",
            "   macro avg       0.78      0.78      0.78      2174\n",
            "weighted avg       0.78      0.78      0.78      2174\n",
            "\n"
          ]
        }
      ],
      "source": [
        "clf = LinearSVC(penalty=\"l1\", loss=\"squared_hinge\",\n",
        "                dual=False).fit(X=X_train, y=y_train)\n",
        "predictions = clf.predict(X=X_test)\n",
        "\n",
        "print(f\"Model: {clf}\")\n",
        "print(classification_report(y_true=y_test, y_pred=predictions))\n",
        "\n",
        "clf = LinearSVC(penalty=\"l2\", dual=False).fit(X=X_train, y=y_train)\n",
        "predictions = clf.predict(X=X_test)\n",
        "\n",
        "print(f\"Model: {clf}\")\n",
        "print(f\"The f1 score is {f1_score(y_true=y_test, y_pred=predictions)}\")\n",
        "print(classification_report(y_true=y_test, y_pred=predictions))\n"
      ]
    },
    {
      "cell_type": "markdown",
      "metadata": {
        "id": "XgBXeGOtN73N"
      },
      "source": [
        "## Naive Bayes\n",
        "\n",
        "https://scikit-learn.org/stable/modules/generated/sklearn.naive_bayes.GaussianNB.html#sklearn.naive_bayes.GaussianNB\n",
        "\n",
        "https://scikit-learn.org/stable/modules/generated/sklearn.naive_bayes.BernoulliNB.html#sklearn.naive_bayes.BernoulliNB"
      ]
    },
    {
      "cell_type": "code",
      "execution_count": null,
      "metadata": {
        "id": "Rxna86YwN73O",
        "outputId": "88b2a8db-f81a-49e2-ee42-654841e46f81",
        "colab": {
          "base_uri": "https://localhost:8080/"
        }
      },
      "outputs": [
        {
          "output_type": "stream",
          "name": "stdout",
          "text": [
            "Model: GaussianNB()\n",
            "              precision    recall  f1-score   support\n",
            "\n",
            "           0       0.85      0.46      0.60      1072\n",
            "           1       0.64      0.92      0.75      1102\n",
            "\n",
            "    accuracy                           0.69      2174\n",
            "   macro avg       0.74      0.69      0.68      2174\n",
            "weighted avg       0.74      0.69      0.68      2174\n",
            "\n",
            "Model: BernoulliNB()\n",
            "              precision    recall  f1-score   support\n",
            "\n",
            "           0       0.69      0.82      0.75      1072\n",
            "           1       0.78      0.65      0.71      1102\n",
            "\n",
            "    accuracy                           0.73      2174\n",
            "   macro avg       0.74      0.73      0.73      2174\n",
            "weighted avg       0.74      0.73      0.73      2174\n",
            "\n"
          ]
        }
      ],
      "source": [
        "naive_bayes_models = (GaussianNB(), BernoulliNB())\n",
        "for model in naive_bayes_models:\n",
        "    clf = model.fit(X=X_train, y=y_train)\n",
        "    predictions = clf.predict(X=X_test)\n",
        "\n",
        "    print(f\"Model: {clf}\")\n",
        "    print(classification_report(y_true=y_test, y_pred=predictions))\n"
      ]
    },
    {
      "cell_type": "markdown",
      "metadata": {
        "id": "yG0c0fm9N73Q"
      },
      "source": [
        "## Stochastic Gradient Descent\n",
        "\n",
        "https://scikit-learn.org/stable/modules/generated/sklearn.linear_model.SGDClassifier.html"
      ]
    },
    {
      "cell_type": "code",
      "execution_count": null,
      "metadata": {
        "id": "WQxT3s0ZN73R",
        "outputId": "ea95b8e6-bf93-4005-ab9f-9f9cc8c74f13",
        "colab": {
          "base_uri": "https://localhost:8080/"
        }
      },
      "outputs": [
        {
          "output_type": "stream",
          "name": "stdout",
          "text": [
            "Best model: SGDClassifier(max_iter=5000, n_jobs=-1, penalty='l1')\n",
            "              precision    recall  f1-score   support\n",
            "\n",
            "           0       0.45      0.83      0.58      1072\n",
            "           1       0.12      0.02      0.04      1102\n",
            "\n",
            "    accuracy                           0.42      2174\n",
            "   macro avg       0.29      0.43      0.31      2174\n",
            "weighted avg       0.29      0.42      0.31      2174\n",
            "\n"
          ]
        }
      ],
      "source": [
        "losses = {'hinge', 'modified_huber', 'squared_hinge', 'perceptron',\n",
        "          'squared_error', 'huber', 'epsilon_insensitive', 'squared_epsilon_insensitive'}\n",
        "penalties = {'l2', 'l1', 'elasticnet'}\n",
        "\n",
        "\n",
        "best_f1 = 0\n",
        "best_SGD_model = SGDClassifier()\n",
        "best_predictions = 0\n",
        "\n",
        "for loss in losses:\n",
        "    for penalty in penalties:\n",
        "        clf = SGDClassifier(loss=loss, penalty=penalty,\n",
        "                            max_iter=5000, n_jobs=-1).fit(X=X_train, y=y_train)\n",
        "        predictions = clf.predict(X=X_test)\n",
        "\n",
        "        f1 = f1_score(y_true=y_test, y_pred=predictions)\n",
        "\n",
        "        if (f1 > best_f1):\n",
        "            best_f1 = f1\n",
        "            best_SGD_model = clf\n",
        "            best_predictions = predictions\n",
        "\n",
        "print(f\"Best model: {best_SGD_model}\")\n",
        "print(classification_report(y_true=y_test, y_pred=predictions))\n"
      ]
    },
    {
      "cell_type": "markdown",
      "metadata": {
        "id": "ydgQm9PLN73T"
      },
      "source": [
        "## SVMs\n",
        "\n",
        "https://scikit-learn.org/stable/modules/generated/sklearn.svm.SVC.html"
      ]
    },
    {
      "cell_type": "code",
      "execution_count": null,
      "metadata": {
        "id": "puY0V43VN73T"
      },
      "outputs": [],
      "source": [
        "# 2c_SL_SVM_Kernel.ipynb\n",
        "# TODO SVM takes A REALLY LONG TIME (30+ and it didn't finish), even with reduced parameters\n",
        "#      It was slow even on MIO, so not sure what to do there\n",
        "\n",
        "# params = {\n",
        "#     \"kernel\": [\"linear\", \"poly\"],\n",
        "#     \"degree\": [1, 2, 3],\n",
        "#     \"C\": [1e-5, 1e-4, 1e-3, 1e-2, 1e-1, 1, 1e2, 1e3, 1e4],\n",
        "#     \"random_state\": [0],\n",
        "#     \"gamma\": [\"auto\"]\n",
        "# }\n",
        "# clf = GridSearchCV(estimator=SVC(), param_grid=params,\n",
        "#                    scoring=\"f1_weighted\", cv=10, n_jobs=-1)\n",
        "\n",
        "# clf.fit(X=X_train, y=y_train)\n",
        "# print(f\"The best estimator is {clf.best_estimator_}\")\n",
        "# print(f\"Best score on training data: {clf.best_score_}\")\n",
        "\n",
        "# testScore = clf.score(X=X_test, y=y_test)\n",
        "# print(f\"Best score on testing data: {testScore}\")\n"
      ]
    },
    {
      "cell_type": "markdown",
      "metadata": {
        "id": "QyspXzSsN73V"
      },
      "source": [
        "# Feature selection\n",
        "\n",
        "Feature selection is a feature learning approach to **select a subset of the features** from our data to use for a particular task."
      ]
    },
    {
      "cell_type": "code",
      "execution_count": null,
      "metadata": {
        "id": "vcvjyOF_I8Bn"
      },
      "outputs": [],
      "source": [
        "from sklearn.preprocessing import StandardScaler\n",
        "from sklearn.feature_selection import SelectKBest\n",
        "from sklearn.linear_model import LinearRegression\n",
        "\n",
        "checkNotSubmitting()\n",
        "\n",
        "# References homework 4a_FL_Feature_Selection.ipynb\n",
        "# Create a StandardScalar to standardize the passenger features\n",
        "scalar = sk.preprocessing.StandardScaler().fit(X=X_train)\n",
        "# Don't want to change the original values\n",
        "XT_train = scalar.transform(X=X_train)\n",
        "XT_test = scalar.transform(X=X_test)\n"
      ]
    },
    {
      "cell_type": "markdown",
      "metadata": {
        "id": "TeOd_tzEN73X"
      },
      "source": [
        "## Filter Methods (Mutual Information)\n",
        "\n",
        "Filter methods directly **select a subset from the features** using a metric that they filter by.\n",
        "\n",
        "An example filter method would be using the **mutual information score between features to determine the redundancy** in the data. \n",
        "With the goal of reducing dimensionality by minimizing redundancy we can then **remove features based on the highest amount of redundancy calculated by the mutual information.**\n",
        "\n",
        "\\+ Low computation cost\n",
        "\n",
        "\\+ Robust to overfitting. \n",
        "\n",
        "\\+ Good value for computation time and effort \n",
        "\n",
        "\\- Filter methods are also greedy which means that they may not get the best possible results."
      ]
    },
    {
      "cell_type": "code",
      "execution_count": null,
      "metadata": {
        "id": "QYtZYHoPN73Y",
        "outputId": "f41c1494-9376-4e07-a99e-e72de0634b3e",
        "colab": {
          "base_uri": "https://localhost:8080/"
        }
      },
      "outputs": [
        {
          "output_type": "stream",
          "name": "stdout",
          "text": [
            "---------------------------------Mutual Information-------------------------------------\n",
            "Model: KNeighborsClassifier(n_jobs=-1, n_neighbors=40)\n",
            "Mutual Information\n",
            "              precision    recall  f1-score   support\n",
            "\n",
            "           0       0.80      0.78      0.79      3243\n",
            "           1       0.79      0.81      0.80      3276\n",
            "\n",
            "    accuracy                           0.80      6519\n",
            "   macro avg       0.80      0.80      0.80      6519\n",
            "weighted avg       0.80      0.80      0.80      6519\n",
            "\n",
            "Testing Data\n",
            "              precision    recall  f1-score   support\n",
            "\n",
            "           0       0.79      0.75      0.77      1072\n",
            "           1       0.77      0.81      0.79      1102\n",
            "\n",
            "    accuracy                           0.78      2174\n",
            "   macro avg       0.78      0.78      0.78      2174\n",
            "weighted avg       0.78      0.78      0.78      2174\n",
            "\n",
            "Model: SVC()\n",
            "Mutual Information\n",
            "              precision    recall  f1-score   support\n",
            "\n",
            "           0       0.80      0.79      0.80      3243\n",
            "           1       0.80      0.80      0.80      3276\n",
            "\n",
            "    accuracy                           0.80      6519\n",
            "   macro avg       0.80      0.80      0.80      6519\n",
            "weighted avg       0.80      0.80      0.80      6519\n",
            "\n",
            "Testing Data\n",
            "              precision    recall  f1-score   support\n",
            "\n",
            "           0       0.78      0.79      0.79      1072\n",
            "           1       0.80      0.78      0.79      1102\n",
            "\n",
            "    accuracy                           0.79      2174\n",
            "   macro avg       0.79      0.79      0.79      2174\n",
            "weighted avg       0.79      0.79      0.79      2174\n",
            "\n",
            "Model: LinearSVC(dual=False, max_iter=5000, penalty='l1')\n",
            "Mutual Information\n",
            "              precision    recall  f1-score   support\n",
            "\n",
            "           0       0.79      0.77      0.78      3243\n",
            "           1       0.78      0.80      0.79      3276\n",
            "\n",
            "    accuracy                           0.78      6519\n",
            "   macro avg       0.78      0.78      0.78      6519\n",
            "weighted avg       0.78      0.78      0.78      6519\n",
            "\n",
            "Testing Data\n",
            "              precision    recall  f1-score   support\n",
            "\n",
            "           0       0.78      0.77      0.78      1072\n",
            "           1       0.78      0.79      0.79      1102\n",
            "\n",
            "    accuracy                           0.78      2174\n",
            "   macro avg       0.78      0.78      0.78      2174\n",
            "weighted avg       0.78      0.78      0.78      2174\n",
            "\n",
            "Model: GaussianNB()\n",
            "Mutual Information\n",
            "              precision    recall  f1-score   support\n",
            "\n",
            "           0       0.67      0.87      0.76      3243\n",
            "           1       0.82      0.57      0.67      3276\n",
            "\n",
            "    accuracy                           0.72      6519\n",
            "   macro avg       0.74      0.72      0.71      6519\n",
            "weighted avg       0.74      0.72      0.71      6519\n",
            "\n",
            "Testing Data\n",
            "              precision    recall  f1-score   support\n",
            "\n",
            "           0       0.66      0.87      0.75      1072\n",
            "           1       0.82      0.56      0.67      1102\n",
            "\n",
            "    accuracy                           0.72      2174\n",
            "   macro avg       0.74      0.72      0.71      2174\n",
            "weighted avg       0.74      0.72      0.71      2174\n",
            "\n",
            "Model: BernoulliNB()\n",
            "Mutual Information\n",
            "              precision    recall  f1-score   support\n",
            "\n",
            "           0       0.81      0.70      0.75      3243\n",
            "           1       0.74      0.84      0.78      3276\n",
            "\n",
            "    accuracy                           0.77      6519\n",
            "   macro avg       0.77      0.77      0.77      6519\n",
            "weighted avg       0.77      0.77      0.77      6519\n",
            "\n",
            "Testing Data\n",
            "              precision    recall  f1-score   support\n",
            "\n",
            "           0       0.80      0.68      0.74      1072\n",
            "           1       0.73      0.84      0.78      1102\n",
            "\n",
            "    accuracy                           0.76      2174\n",
            "   macro avg       0.77      0.76      0.76      2174\n",
            "weighted avg       0.77      0.76      0.76      2174\n",
            "\n",
            "Model: SGDClassifier(loss='perceptron', max_iter=5000, n_jobs=-1)\n",
            "Mutual Information\n",
            "              precision    recall  f1-score   support\n",
            "\n",
            "           0       0.84      0.68      0.76      3243\n",
            "           1       0.74      0.87      0.80      3276\n",
            "\n",
            "    accuracy                           0.78      6519\n",
            "   macro avg       0.79      0.78      0.78      6519\n",
            "weighted avg       0.79      0.78      0.78      6519\n",
            "\n",
            "Testing Data\n",
            "              precision    recall  f1-score   support\n",
            "\n",
            "           0       0.83      0.68      0.75      1072\n",
            "           1       0.73      0.87      0.79      1102\n",
            "\n",
            "    accuracy                           0.77      2174\n",
            "   macro avg       0.78      0.77      0.77      2174\n",
            "weighted avg       0.78      0.77      0.77      2174\n",
            "\n"
          ]
        }
      ],
      "source": [
        "print(f\"---------------------------------Mutual Information-------------------------------------\")\n",
        "\n",
        "# Create set of models to estimate on\n",
        "model_estimators = [KNeighborsClassifier(n_neighbors=40, n_jobs=-1), SVC(kernel=\"rbf\", gamma=\"scale\"),\n",
        "                    LinearSVC(dual=False, penalty=\"l1\", max_iter=5000), GaussianNB(), BernoulliNB(), SGDClassifier(loss=\"perceptron\", max_iter=5000, n_jobs=-1)]\n",
        "\n",
        "# Select the best features based on mutual information score from the training data,\n",
        "#  then transform XT_train and XT_test into the new subset of selected features\n",
        "for model in model_estimators:\n",
        "    print(f\"Model: {model}\")\n",
        "    # Set up tracker variables\n",
        "    best_k_MI = 0\n",
        "    best_k_test = 0\n",
        "    lowest_mse_MI = 1\n",
        "    lowest_mse_test = 1\n",
        "    best_predictions_MI = np.zeros(1)\n",
        "    best_predictions_test = np.zeros(1)\n",
        "\n",
        "    max_k = 11\n",
        "    for k in range(1, max_k):\n",
        "        mutual_information_transformer = sk.feature_selection.SelectKBest(\n",
        "            score_func=sk.feature_selection.mutual_info_regression,\n",
        "            k=k\n",
        "        ).fit(X=XT_train, y=y_train)\n",
        "        MI_X_train = mutual_information_transformer.transform(X=XT_train)\n",
        "        MI_X_test = mutual_information_transformer.transform(X=XT_test)\n",
        "\n",
        "        # Create model and estimate\n",
        "        miEst = model.fit(X=MI_X_train, y=y_train)\n",
        "        train_predictions = miEst.predict(X=MI_X_train)\n",
        "        test_predictions = miEst.predict(X=MI_X_test)\n",
        "\n",
        "        mse_MI = mean_squared_error(y_true=y_train, y_pred=train_predictions)\n",
        "        mse_test = mean_squared_error(y_true=y_test, y_pred=test_predictions)\n",
        "        if (mse_MI < lowest_mse_MI):\n",
        "            best_k_MI = k\n",
        "            lowest_mse_MI = mse_MI\n",
        "            best_predictions_MI = train_predictions\n",
        "        if (mse_test < lowest_mse_test):\n",
        "            best_k_test = k\n",
        "            lowest_mse_test = mse_test\n",
        "            best_predictions_test = test_predictions\n",
        "\n",
        "    print(\"Mutual Information\")\n",
        "    print(classification_report(y_true=y_train, y_pred=best_predictions_MI))\n",
        "    print(\"Testing Data\")\n",
        "    print(classification_report(y_true=y_test, y_pred=best_predictions_test))\n"
      ]
    },
    {
      "cell_type": "markdown",
      "metadata": {
        "id": "UxFtIG3nN73a"
      },
      "source": [
        "## Wrapper Methods (Recursive Feature Elimination)\n",
        "\n",
        "Wrapper methods will **loop through the subset selection and model training stages.**\n",
        "\n",
        "An example wrapper method is recursive feature elimination (RFE). RFE utilizes models that provide a coefficient for each feature that represents its applicability or use in determining the target of the model.\n",
        "\n",
        "\\+ Usually perform better than filter methods. \n",
        "\n",
        "\\- They are also usually greedy methods, will \n",
        "\n",
        "\\- Require more computation time than filter methods \n",
        "\n",
        "\\- Prone to overfitting."
      ]
    },
    {
      "cell_type": "code",
      "execution_count": null,
      "metadata": {
        "id": "WjROZnBJN73b"
      },
      "outputs": [],
      "source": [
        "from sklearn.linear_model import Ridge, Lasso, ElasticNet\n"
      ]
    },
    {
      "cell_type": "code",
      "execution_count": null,
      "metadata": {
        "id": "QKAkeXz6N73b",
        "outputId": "c51b1e9d-822d-4d6f-e3e2-06c4dfa76d70",
        "colab": {
          "base_uri": "https://localhost:8080/"
        }
      },
      "outputs": [
        {
          "output_type": "stream",
          "name": "stdout",
          "text": [
            "---------------------------------Recursive Elimination----------------------------------\n",
            "Model: LinearRegression(n_jobs=-1)\n",
            "The lowest MSE for the RFE selected features is 0.17622706682669728 with step = 1\n",
            "The most important features as determined by RFE were ['CryoSleep', 'RoomService', 'FoodCourt', 'Spa', 'VRDeck']\n",
            "The lowest MSE for on the test data is 0.1767288182581664 with step = 0\n",
            "\n",
            "Model: Ridge()\n",
            "The lowest MSE for the RFE selected features is 0.1762270684546783 with step = 1\n",
            "The most important features as determined by RFE were ['CryoSleep', 'RoomService', 'FoodCourt', 'Spa', 'VRDeck']\n",
            "The lowest MSE for on the test data is 0.17673008303169466 with step = 0\n",
            "\n",
            "Model: Lasso()\n",
            "The lowest MSE for the RFE selected features is 0.24999359371985477 with step = 1\n",
            "The most important features as determined by RFE were ['RoomService', 'FoodCourt', 'ShoppingMall', 'Spa', 'VRDeck']\n",
            "The lowest MSE for on the test data is 0.2499714790071948 with step = 0\n",
            "\n",
            "Model: ElasticNet()\n",
            "The lowest MSE for the RFE selected features is 0.24999359371985477 with step = 1\n",
            "The most important features as determined by RFE were ['RoomService', 'FoodCourt', 'ShoppingMall', 'Spa', 'VRDeck']\n",
            "The lowest MSE for on the test data is 0.2499714790071948 with step = 0\n",
            "\n"
          ]
        }
      ],
      "source": [
        "print(f\"---------------------------------Recursive Elimination----------------------------------\")\n",
        "\n",
        "# RFE only works with LinearRegression-like models for some reason\n",
        "model_estimators = [LinearRegression(\n",
        "    n_jobs=-1), Ridge(), Lasso(), ElasticNet()]\n",
        "\n",
        "for model in model_estimators:\n",
        "    lowest_mse_rfe = 1\n",
        "    lowest_mse_test = 1\n",
        "    best_step_rfe = 0\n",
        "    best_step_test = 0\n",
        "    most_important_rfe = list()\n",
        "    most_important_test = list()\n",
        "\n",
        "    # Use recursive feature elimination (RFE) object to determine the k features to select\n",
        "    # from X_train using a variable step size\n",
        "    max_steps = 11\n",
        "    for step in range(1, 11):\n",
        "        rfe_transformer = sk.feature_selection.RFE(\n",
        "            estimator=model, step=step).fit(X=XT_train, y=y_train)\n",
        "        rfe_X_train = rfe_transformer.transform(X=XT_train)\n",
        "        rfe_X_test = rfe_transformer.transform(X=XT_test)\n",
        "\n",
        "        rfeEst = model.fit(rfe_X_train, y_train)\n",
        "        train_predictions = rfeEst.predict(X=rfe_X_train)\n",
        "        test_predictions = rfeEst.predict(X=rfe_X_test)\n",
        "\n",
        "        mse_rfe = mean_squared_error(y_true=y_train, y_pred=train_predictions)\n",
        "        mse_test = mean_squared_error(y_true=y_test, y_pred=test_predictions)\n",
        "\n",
        "        if (mse_rfe < lowest_mse_rfe):\n",
        "            best_step_rfe = step\n",
        "            lowest_mse_rfe = mse_rfe\n",
        "            most_important_rfe = list(\n",
        "                data.columns[:11][rfe_transformer.support_])\n",
        "        if (mse_test < lowest_mse_test):\n",
        "            best_k_test = k\n",
        "            lowest_mse_test = mse_test\n",
        "            most_important_test = list(\n",
        "                data.columns[:11][rfe_transformer.support_])\n",
        "\n",
        "    print(f\"Model: {model}\")\n",
        "    print(\n",
        "        f\"The lowest MSE for the RFE selected features is {lowest_mse_rfe} with step = {best_step_rfe}\")\n",
        "    print(\n",
        "        f\"The most important features as determined by RFE were {list(data.columns[:11][rfe_transformer.support_])}\")\n",
        "    print(\n",
        "        f\"The lowest MSE for on the test data is {lowest_mse_test} with step = {best_step_test}\\n\")\n"
      ]
    },
    {
      "cell_type": "markdown",
      "metadata": {
        "id": "gMu9x1XlN73d"
      },
      "source": [
        "## Embedded Methods\n",
        "\n",
        "Embedded methods will loop through the subset selection, model training and evaluation stages.\n",
        "\n",
        "Based on the trained model parameters and performance, the embedded method will select a new subset. Examples of embedded feature selection methods are any of the regularization based regression methods we discussed previously.\n",
        "\n",
        "\\+ Enjoys benefits of filter and wrapper methods \n",
        "\n",
        "\\+ Better performance and better results. \n",
        "\n",
        "\\- More computation time."
      ]
    },
    {
      "cell_type": "code",
      "execution_count": null,
      "metadata": {
        "id": "-AoZSJLfN73e"
      },
      "outputs": [],
      "source": [
        "from sklearn.linear_model import RidgeCV, LassoCV\n"
      ]
    },
    {
      "cell_type": "code",
      "execution_count": null,
      "metadata": {
        "id": "apKEfd_gN73f",
        "outputId": "11a49165-6bd3-4f05-89e4-0acd800beb16",
        "colab": {
          "base_uri": "https://localhost:8080/"
        }
      },
      "outputs": [
        {
          "output_type": "stream",
          "name": "stdout",
          "text": [
            "---------------------------------Embedded Method----------------------------------\n",
            "RidgeCV(alphas=array([  1.        ,   1.0990991 ,   1.1981982 ,   1.2972973 ,\n",
            "         1.3963964 ,   1.4954955 ,   1.59459459,   1.69369369,\n",
            "         1.79279279,   1.89189189,   1.99099099,   2.09009009,\n",
            "         2.18918919,   2.28828829,   2.38738739,   2.48648649,\n",
            "         2.58558559,   2.68468468,   2.78378378,   2.88288288,\n",
            "         2.98198198,   3.08108108,   3.18018018,   3.27927928,\n",
            "         3.37837838,   3.47747748,   3.57657658,   3.67567568,\n",
            "         3.77477477,   3.87387387,   3.97297297,...\n",
            "        96.92792793,  97.02702703,  97.12612613,  97.22522523,\n",
            "        97.32432432,  97.42342342,  97.52252252,  97.62162162,\n",
            "        97.72072072,  97.81981982,  97.91891892,  98.01801802,\n",
            "        98.11711712,  98.21621622,  98.31531532,  98.41441441,\n",
            "        98.51351351,  98.61261261,  98.71171171,  98.81081081,\n",
            "        98.90990991,  99.00900901,  99.10810811,  99.20720721,\n",
            "        99.30630631,  99.40540541,  99.5045045 ,  99.6036036 ,\n",
            "        99.7027027 ,  99.8018018 ,  99.9009009 , 100.        ]))\n",
            "The best mean squared error when training is 0.16762236969566552\n",
            "The best mean squared error on the test data is 0.1697866140421262\n",
            "\n"
          ]
        }
      ],
      "source": [
        "print(f\"---------------------------------Embedded Method----------------------------------\")\n",
        "\n",
        "# model_estimators = [RidgeCV, LassoCV]\n",
        "model_estimators = [RidgeCV]\n",
        "alphas = np.linspace(1, 100, 1000)\n",
        "\n",
        "for model in model_estimators:\n",
        "\n",
        "    max_alphas = 1001\n",
        "    modelEst = model(alphas=alphas).fit(X=XT_train, y=y_train)\n",
        "\n",
        "    train_predictions = modelEst.predict(XT_train)\n",
        "    test_predictions = modelEst.predict(XT_test)\n",
        "\n",
        "    mse_model = mean_squared_error(y_train, train_predictions)\n",
        "    mse_test = mean_squared_error(y_test, test_predictions)\n",
        "\n",
        "    print(modelEst)\n",
        "    print(f\"The best mean squared error when training is {mse_model}\")\n",
        "    print(f\"The best mean squared error on the test data is {mse_test}\\n\")\n"
      ]
    },
    {
      "cell_type": "markdown",
      "metadata": {
        "id": "-AdxuslbN73g"
      },
      "source": [
        "# Feature Extraction"
      ]
    },
    {
      "cell_type": "code",
      "execution_count": null,
      "metadata": {
        "id": "MLlUvc4JI8DT"
      },
      "outputs": [],
      "source": [
        "from sklearn.manifold import SpectralEmbedding\n",
        "\n",
        "checkNotSubmitting()\n"
      ]
    },
    {
      "cell_type": "markdown",
      "metadata": {
        "id": "R_KchWQLN73i"
      },
      "source": [
        "## Spectral Embedding + SVC"
      ]
    },
    {
      "cell_type": "code",
      "execution_count": null,
      "metadata": {
        "id": "91njlX5PN73i",
        "outputId": "09eb52c6-c691-41b6-c88f-e7b94c66c38d",
        "colab": {
          "base_uri": "https://localhost:8080/",
          "height": 298
        }
      },
      "outputs": [
        {
          "output_type": "display_data",
          "data": {
            "text/plain": [
              "<Figure size 432x288 with 1 Axes>"
            ],
            "image/png": "[encoded data removed]"
          },
          "metadata": {
            "needs_background": "light"
          }
        },
        {
          "output_type": "stream",
          "name": "stdout",
          "text": [
            "The Spectral Embedding + Linear SVM scores an F-1 = 0.673.\n"
          ]
        }
      ],
      "source": [
        "# Justin: This is copied from 4b_FL_Feature_Extraction.ipynb\n",
        "#         We can toy around to make it better, but this is a start\n",
        "\n",
        "spectral_transformer = SpectralEmbedding().fit(X=X_train, y=y_train)\n",
        "spectral_embedding = spectral_transformer.embedding_\n",
        "plt.scatter(spectral_embedding[:, 0], spectral_embedding[:, 1], c=y_train)\n",
        "plt.title(\"Spectral Embedding\")\n",
        "plt.show()\n",
        "\n",
        "X_complete = pd.concat([X_train, X_test])\n",
        "size_Xtrain = len(X_train)\n",
        "\n",
        "spectral_model = SpectralEmbedding()\n",
        "spectral_train = spectral_model.fit_transform(\n",
        "    X=X_complete[:size_Xtrain], y=y_train\n",
        ")\n",
        "spectral_test = spectral_model.fit_transform(\n",
        "    X=X_complete[size_Xtrain:], y=y_test\n",
        ")\n",
        "\n",
        "spectral_svc = LinearSVC().fit(X=spectral_train, y=y_train)\n",
        "print(\n",
        "    f\"The Spectral Embedding + Linear SVM scores an F-1 = {f1_score(y_test, spectral_svc.predict(spectral_test)):.3f}.\")\n"
      ]
    },
    {
      "cell_type": "markdown",
      "metadata": {
        "id": "cHn_uC4xN73k"
      },
      "source": [
        "## t-SNE + SVC"
      ]
    },
    {
      "cell_type": "code",
      "execution_count": null,
      "metadata": {
        "id": "lPQTADdEN73l"
      },
      "outputs": [],
      "source": []
    },
    {
      "cell_type": "markdown",
      "metadata": {
        "id": "2ZOx-NndN73l"
      },
      "source": [
        "## LDA + SVC"
      ]
    },
    {
      "cell_type": "code",
      "execution_count": null,
      "metadata": {
        "id": "gSM7kuJnN73m"
      },
      "outputs": [],
      "source": []
    },
    {
      "cell_type": "markdown",
      "metadata": {
        "id": "GzBQyzFzTQH1"
      },
      "source": [
        "# Model Testing\n",
        "\n",
        "Now we have the reduced dataset with high mutual information between each feature, time to run some models\n"
      ]
    },
    {
      "cell_type": "code",
      "execution_count": null,
      "metadata": {
        "id": "dkIsRYbXJHhx"
      },
      "outputs": [],
      "source": [
        "# knn or svm?\n",
        "# Justin: I think that KNN performed fairly well in the Filter + Mutual\n",
        "#         Information testing\n",
        "#         For the SVMs, they performed relatively well, but the f1 scores weren't\n",
        "#         nearly as close to the KNN\n",
        "#         One thing to note is that I ran the models on the original dataset and some\n",
        "#         on the transformed/normalized dataset\n",
        "#         Does it matter? Maybe.\n",
        "#\n",
        "# TODO    Test it out alone or in combination with other methods.\n",
        "# TODO    Run the same models on the reduced or extracted datasets\n",
        "\n",
        "checkNotSubmitting()\n"
      ]
    },
    {
      "cell_type": "markdown",
      "metadata": {
        "id": "MslDM-7HN73n"
      },
      "source": [
        "# Neural network\n",
        "\n",
        "We can never go wrong with a neural network.\n",
        "\n",
        "So far, this is the highest scoring model. However, we can probably get better\n",
        "scores by tweaking the number of nodes in each layer, number of dropout layers,\n",
        "etc."
      ]
    },
    {
      "cell_type": "code",
      "source": [
        "# Neural network\n",
        "\n",
        "def BuildNetwork(silent=False):\n",
        "  # Andrew's model arch notes:\n",
        "  # - do we progressively collapse when autoencoding or dense map straight to it?\n",
        "  # - mess around with dropout layers to reduce overfitting\n",
        "  #   - hmm I think im doing something wrong, getting very little variation\n",
        "  # - verified test labels are split ~50% live/die\n",
        "  # - adding neurons to dense layers has little/no impact after ~8\n",
        "\n",
        "  checkNotSubmitting()\n",
        "\n",
        "  layers = []\n",
        "  layers.append(tf.keras.layers.Dense(hiddenExpansionSize, input_shape=(X.shape[1],), activation=activation, name=f\"input_{X.shape[1]}x1\"))\n",
        "  for i in range(denseHiddenLayers):\n",
        "    if useDropOutLayers:\n",
        "      layers.append(tf.keras.layers.Dropout(dropoutRate, name=f\"dropout_{i}\"))\n",
        "    layers.append(tf.keras.layers.Dense(hiddenExpansionSize, activation=activation, name=f\"dense_{i}\"))\n",
        "  layers.append(tf.keras.layers.Dense(autoencoderCompressionSize, activation=activation, name=\"autoenc\")) # Compressed feature space\n",
        "  #layers.append(tf.keras.layers.Dense(hiddenExpansionSize, activation=activation, name=f\"autodec\")) # Decompress\n",
        "  #layers.append(tf.keras.layers.Dense(2, activation=outputActivation, name=\"output\")) # Non-BCE loss function\n",
        "  layers.append(tf.keras.layers.Dense(1, activation=outputActivation, name=\"output\")) # BCE loss function\n",
        "\n",
        "  dnn = tf.keras.Sequential(layers)\n",
        "  dnn.build()\n",
        "  if not silent:\n",
        "    dnn.summary()\n",
        "\n",
        "  nnDefaultWeights = dnn.get_weights()\n",
        "\n",
        "  return dnn, nnDefaultWeights"
      ],
      "metadata": {
        "id": "8NBsJp_aPPJy"
      },
      "execution_count": null,
      "outputs": []
    },
    {
      "cell_type": "code",
      "source": [
        "# Neural network compilation and training\n",
        "\n",
        "def TrainNetwork(dnn, defaultWeights, silent=False):\n",
        "  optimizer = tf.keras.optimizers.Adam(learning_rate=learningRate)\n",
        "  #optimizer = tf.keras.optimizers.SGD()\n",
        "  dnn.compile(optimizer, loss=lossFunc, metrics=[\"accuracy\", \"mse\"])\n",
        "  dnn.set_weights(defaultWeights) # Reset if we already fit\n",
        "  return dnn.fit(X_train, y_train, batch_size=batchSize, epochs=epochs, verbose=(not silent))\n",
        "\n",
        "def TestNetwork(dnn):\n",
        "  nnMetrics = dnn.evaluate(X_test, y_test)\n",
        "  return nnMetrics[1]\n",
        "\n",
        "def GenerateKaggleSubmission(dnn):\n",
        "  predictions = dnn.predict(X_test.drop(columns=[\"PassengerId\"]), batch_size=batchSize)\n",
        "  # We have 2 output nodes, we want to take the index of the node with greater activation\n",
        "  #predictionsBinary = np.argmax(predictions, axis=1)\n",
        "  #predictionsBinary = 1 - predictionsBinary # Invert the result for non-BCE loss\n",
        "  # Single node output, convert confidence value to 0 or 1\n",
        "  predictionsBinary = np.where(predictions > 0.5, 1, 0)\n",
        "  outData = pd.DataFrame()\n",
        "  outData[\"PassengerId\"] = X_test[\"PassengerId\"]\n",
        "  outData[\"Transported\"] = predictionsBinary.astype(bool)\n",
        "  outData.to_csv(\"results.csv\", index=False)\n",
        "\n",
        "def GraphHistory(history, n_epochs):\n",
        "  plt.figure(figsize=(14, 4))\n",
        "  plt.subplot(1, 2, 1)\n",
        "  plt.plot(np.arange(1, n_epochs+1), history.history['loss'])\n",
        "  plt.title('Training set loss')\n",
        "  plt.xlabel('Epoch')\n",
        "  plt.ylabel('Loss')\n",
        "\n",
        "  plt.subplot(1, 2, 2)\n",
        "  plt.semilogy(np.arange(1, n_epochs+1), history.history['accuracy'], label='acc')\n",
        "  plt.semilogy(np.arange(1, n_epochs+1), history.history['mse'], label='mse')\n",
        "  plt.legend()\n",
        "  plt.title('Training set metric scores')\n",
        "  plt.xlabel('Epoch')\n",
        "  plt.ylabel('Performance')"
      ],
      "metadata": {
        "id": "2Z8BuTaBPU9i"
      },
      "execution_count": null,
      "outputs": []
    },
    {
      "cell_type": "markdown",
      "metadata": {
        "id": "ZTHewJvwN73n"
      },
      "source": [
        "## Model Parameters"
      ]
    },
    {
      "cell_type": "code",
      "execution_count": null,
      "metadata": {
        "colab": {
          "base_uri": "https://localhost:8080/",
          "height": 295
        },
        "id": "_EmSVKPBTTdy",
        "outputId": "5a3bda1b-9356-4745-de91-b2dc240e6a39"
      },
      "outputs": [
        {
          "output_type": "display_data",
          "data": {
            "text/plain": [
              "<Figure size 1008x288 with 2 Axes>"
            ],
            "image/png": "[encoded data removed]"
          },
          "metadata": {
            "needs_background": "light"
          }
        }
      ],
      "source": [
        "# NEURAL NET CONFIG\n",
        "\n",
        "# MODEL PARAMETERS\n",
        "activation = \"sigmoid\"\n",
        "outputActivation = \"sigmoid\" # This should not change\n",
        "hiddenExpansionSize = 16 # Adding more than about 8 doesn't have much benefit\n",
        "denseHiddenLayers = 2 # No measured benefit of >1, just takes longer to train? Acc falloff at high values\n",
        "useDropOutLayers = True\n",
        "dropoutRate = 0.04 # Dropout rate barely seems to affect the model performance\n",
        "autoencoderCompressionSize = 6\n",
        "##############################################################\n",
        "\n",
        "# TRAINING PARAMETERS\n",
        "learningRate = 0.001\n",
        "lossFunc = \"binary_crossentropy\" # \"mae\"\n",
        "# Note about the loss function: we want BCE for binary classification, but if we\n",
        "# want to mess around with MAE or others, we need the network to end with 2 nodes\n",
        "# and use a sigmoid activation.\n",
        "epochs = 38\n",
        "batchSize = None #1000\n",
        "##############################################################\n",
        "\n",
        "# Accuracy milestones\n",
        "#######################\n",
        "# Initial model: 0.8031\n",
        "# Dropout model: 0.8068\n",
        "\n",
        "# Basic network usage and testing:\n",
        "# BuildNetwork()\n",
        "# TrainNetwork()\n",
        "# accuracy = TestNetwork()\n",
        "\n",
        "dnn = None\n",
        "if not testSubmission:\n",
        "  # Optimizing parameters\n",
        "  acc = []\n",
        "  #sizes = [ 0.01, 0.05, 0.1, 0.2, 0.3, 0.5, 0.8 ]\n",
        "  #for i, s in enumerate(sizes):\n",
        "  #  dropoutRate = s\n",
        "  #  dnn, dWeights = BuildNetwork(silent=True)\n",
        "  #  TrainNetwork(dnn, dWeights, silent=True)\n",
        "  #  accuracy = TestNetwork(dnn)\n",
        "  #  #print(f\"ACCURACY: {accuracy}\")\n",
        "  #  acc.append((s,accuracy))\n",
        "  #print(\"\\n\\nACCURACY VALUES:\")\n",
        "  #for i,v in acc:\n",
        "  #  print(f\"\\ti={i}: {v}\")\n",
        "  dnn, dWeights = BuildNetwork(silent=True)\n",
        "  history = TrainNetwork(dnn, dWeights, silent=True)\n",
        "  GraphHistory(history, epochs)\n",
        "else:\n",
        "  if dnn is None:\n",
        "    print(\"Failed to generate NN submission, did not train network\")\n",
        "  else:\n",
        "    GenerateKaggleSubmission(dnn)"
      ]
    }
  ],
  "metadata": {
    "colab": {
      "provenance": []
    },
    "kernelspec": {
      "display_name": "Python 3.7.13 ('machine-learning')",
      "language": "python",
      "name": "python3"
    },
    "language_info": {
      "codemirror_mode": {
        "name": "ipython",
        "version": 3
      },
      "file_extension": ".py",
      "mimetype": "text/x-python",
      "name": "python",
      "nbconvert_exporter": "python",
      "pygments_lexer": "ipython3",
      "version": "3.7.13"
    },
    "vscode": {
      "interpreter": {
        "hash": "524fac7b5b1a656dbfd9ba9be45ea18eda30afda0b902b920361614370cbe1d5"
      }
    }
  },
  "nbformat": 4,
  "nbformat_minor": 0
}