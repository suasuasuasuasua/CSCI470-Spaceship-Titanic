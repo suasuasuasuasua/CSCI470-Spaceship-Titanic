{
  "cells": [
    {
      "cell_type": "markdown",
      "metadata": {
        "colab_type": "text",
        "id": "view-in-github"
      },
      "source": [
        "<a href=\"https://colab.research.google.com/github/suasuasuasuasua/CSCI470-Spaceship-Titanic/blob/main/Spaceship_Titanic.ipynb\" target=\"_parent\"><img src=\"https://colab.research.google.com/assets/colab-badge.svg\" alt=\"Open In Colab\"/></a>"
      ]
    },
    {
      "cell_type": "code",
      "execution_count": 1,
      "metadata": {
        "colab": {
          "base_uri": "https://localhost:8080/"
        },
        "id": "dxBeBwllSve-",
        "outputId": "1ba6f378-4b2b-47ee-9ed0-0b77ebdab36c"
      },
      "outputs": [
        {
          "name": "stdout",
          "output_type": "stream",
          "text": [
            "Requirement already satisfied: numpy in /home/sua/.local/lib/python3.9/site-packages (1.23.3)\n",
            "Requirement already satisfied: pandas in /home/sua/.local/lib/python3.9/site-packages (1.4.4)\n",
            "Requirement already satisfied: pytz>=2020.1 in /home/sua/.local/lib/python3.9/site-packages (from pandas) (2022.2.1)\n",
            "Requirement already satisfied: python-dateutil>=2.8.1 in /home/sua/.local/lib/python3.9/site-packages (from pandas) (2.8.2)\n",
            "Requirement already satisfied: numpy>=1.18.5 in /home/sua/.local/lib/python3.9/site-packages (from pandas) (1.23.3)\n",
            "Requirement already satisfied: six>=1.5 in /home/sua/.local/lib/python3.9/site-packages (from python-dateutil>=2.8.1->pandas) (1.16.0)\n",
            "Requirement already satisfied: scikit-learn in /home/sua/.local/lib/python3.9/site-packages (1.1.2)\n",
            "Requirement already satisfied: joblib>=1.0.0 in /home/sua/.local/lib/python3.9/site-packages (from scikit-learn) (1.1.0)\n",
            "Requirement already satisfied: numpy>=1.17.3 in /home/sua/.local/lib/python3.9/site-packages (from scikit-learn) (1.23.3)\n",
            "Requirement already satisfied: threadpoolctl>=2.0.0 in /home/sua/.local/lib/python3.9/site-packages (from scikit-learn) (3.1.0)\n",
            "Requirement already satisfied: scipy>=1.3.2 in /home/sua/.local/lib/python3.9/site-packages (from scikit-learn) (1.9.1)\n",
            "Requirement already satisfied: tensorflow in /home/sua/.local/lib/python3.9/site-packages (2.10.0)\n",
            "Requirement already satisfied: keras<2.11,>=2.10.0 in /home/sua/.local/lib/python3.9/site-packages (from tensorflow) (2.10.0)\n",
            "Requirement already satisfied: grpcio<2.0,>=1.24.3 in /home/sua/.local/lib/python3.9/site-packages (from tensorflow) (1.49.1)\n",
            "Requirement already satisfied: tensorboard<2.11,>=2.10 in /home/sua/.local/lib/python3.9/site-packages (from tensorflow) (2.10.1)\n",
            "Requirement already satisfied: numpy>=1.20 in /home/sua/.local/lib/python3.9/site-packages (from tensorflow) (1.23.3)\n",
            "Requirement already satisfied: six>=1.12.0 in /home/sua/.local/lib/python3.9/site-packages (from tensorflow) (1.16.0)\n",
            "Requirement already satisfied: wrapt>=1.11.0 in /home/sua/.local/lib/python3.9/site-packages (from tensorflow) (1.14.1)\n",
            "Requirement already satisfied: typing-extensions>=3.6.6 in /home/sua/.local/lib/python3.9/site-packages (from tensorflow) (4.3.0)\n",
            "Requirement already satisfied: tensorflow-estimator<2.11,>=2.10.0 in /home/sua/.local/lib/python3.9/site-packages (from tensorflow) (2.10.0)\n",
            "Requirement already satisfied: termcolor>=1.1.0 in /home/sua/.local/lib/python3.9/site-packages (from tensorflow) (2.0.1)\n",
            "Requirement already satisfied: libclang>=13.0.0 in /home/sua/.local/lib/python3.9/site-packages (from tensorflow) (14.0.6)\n",
            "Requirement already satisfied: packaging in /home/sua/.local/lib/python3.9/site-packages (from tensorflow) (21.3)\n",
            "Requirement already satisfied: absl-py>=1.0.0 in /home/sua/.local/lib/python3.9/site-packages (from tensorflow) (1.2.0)\n",
            "Requirement already satisfied: flatbuffers>=2.0 in /home/sua/.local/lib/python3.9/site-packages (from tensorflow) (22.9.24)\n",
            "Requirement already satisfied: astunparse>=1.6.0 in /home/sua/.local/lib/python3.9/site-packages (from tensorflow) (1.6.3)\n",
            "Requirement already satisfied: setuptools in /usr/lib/python3/dist-packages (from tensorflow) (52.0.0)\n",
            "Requirement already satisfied: gast<=0.4.0,>=0.2.1 in /home/sua/.local/lib/python3.9/site-packages (from tensorflow) (0.4.0)\n",
            "Requirement already satisfied: keras-preprocessing>=1.1.1 in /home/sua/.local/lib/python3.9/site-packages (from tensorflow) (1.1.2)\n",
            "Requirement already satisfied: protobuf<3.20,>=3.9.2 in /home/sua/.local/lib/python3.9/site-packages (from tensorflow) (3.19.6)\n",
            "Requirement already satisfied: opt-einsum>=2.3.2 in /home/sua/.local/lib/python3.9/site-packages (from tensorflow) (3.3.0)\n",
            "Requirement already satisfied: google-pasta>=0.1.1 in /home/sua/.local/lib/python3.9/site-packages (from tensorflow) (0.2.0)\n",
            "Requirement already satisfied: h5py>=2.9.0 in /home/sua/.local/lib/python3.9/site-packages (from tensorflow) (3.7.0)\n",
            "Requirement already satisfied: tensorflow-io-gcs-filesystem>=0.23.1 in /home/sua/.local/lib/python3.9/site-packages (from tensorflow) (0.27.0)\n",
            "Requirement already satisfied: wheel<1.0,>=0.23.0 in /usr/lib/python3/dist-packages (from astunparse>=1.6.0->tensorflow) (0.34.2)\n",
            "Requirement already satisfied: tensorboard-plugin-wit>=1.6.0 in /home/sua/.local/lib/python3.9/site-packages (from tensorboard<2.11,>=2.10->tensorflow) (1.8.1)\n",
            "Requirement already satisfied: werkzeug>=1.0.1 in /home/sua/.local/lib/python3.9/site-packages (from tensorboard<2.11,>=2.10->tensorflow) (2.2.2)\n",
            "Requirement already satisfied: tensorboard-data-server<0.7.0,>=0.6.0 in /home/sua/.local/lib/python3.9/site-packages (from tensorboard<2.11,>=2.10->tensorflow) (0.6.1)\n",
            "Requirement already satisfied: google-auth<3,>=1.6.3 in /home/sua/.local/lib/python3.9/site-packages (from tensorboard<2.11,>=2.10->tensorflow) (2.12.0)\n",
            "Requirement already satisfied: google-auth-oauthlib<0.5,>=0.4.1 in /home/sua/.local/lib/python3.9/site-packages (from tensorboard<2.11,>=2.10->tensorflow) (0.4.6)\n",
            "Requirement already satisfied: requests<3,>=2.21.0 in /home/sua/.local/lib/python3.9/site-packages (from tensorboard<2.11,>=2.10->tensorflow) (2.28.1)\n",
            "Requirement already satisfied: markdown>=2.6.8 in /home/sua/.local/lib/python3.9/site-packages (from tensorboard<2.11,>=2.10->tensorflow) (3.4.1)\n",
            "Requirement already satisfied: cachetools<6.0,>=2.0.0 in /home/sua/.local/lib/python3.9/site-packages (from google-auth<3,>=1.6.3->tensorboard<2.11,>=2.10->tensorflow) (5.2.0)\n",
            "Requirement already satisfied: pyasn1-modules>=0.2.1 in /home/sua/.local/lib/python3.9/site-packages (from google-auth<3,>=1.6.3->tensorboard<2.11,>=2.10->tensorflow) (0.2.8)\n",
            "Requirement already satisfied: rsa<5,>=3.1.4 in /home/sua/.local/lib/python3.9/site-packages (from google-auth<3,>=1.6.3->tensorboard<2.11,>=2.10->tensorflow) (4.9)\n",
            "Requirement already satisfied: requests-oauthlib>=0.7.0 in /home/sua/.local/lib/python3.9/site-packages (from google-auth-oauthlib<0.5,>=0.4.1->tensorboard<2.11,>=2.10->tensorflow) (1.3.1)\n",
            "Requirement already satisfied: importlib-metadata>=4.4 in /home/sua/.local/lib/python3.9/site-packages (from markdown>=2.6.8->tensorboard<2.11,>=2.10->tensorflow) (4.12.0)\n",
            "Requirement already satisfied: zipp>=0.5 in /home/sua/.local/lib/python3.9/site-packages (from importlib-metadata>=4.4->markdown>=2.6.8->tensorboard<2.11,>=2.10->tensorflow) (3.8.1)\n",
            "Requirement already satisfied: pyasn1<0.5.0,>=0.4.6 in /home/sua/.local/lib/python3.9/site-packages (from pyasn1-modules>=0.2.1->google-auth<3,>=1.6.3->tensorboard<2.11,>=2.10->tensorflow) (0.4.8)\n",
            "Requirement already satisfied: charset-normalizer<3,>=2 in /home/sua/.local/lib/python3.9/site-packages (from requests<3,>=2.21.0->tensorboard<2.11,>=2.10->tensorflow) (2.1.1)\n",
            "Requirement already satisfied: certifi>=2017.4.17 in /home/sua/.local/lib/python3.9/site-packages (from requests<3,>=2.21.0->tensorboard<2.11,>=2.10->tensorflow) (2022.9.24)\n",
            "Requirement already satisfied: urllib3<1.27,>=1.21.1 in /home/sua/.local/lib/python3.9/site-packages (from requests<3,>=2.21.0->tensorboard<2.11,>=2.10->tensorflow) (1.26.12)\n",
            "Requirement already satisfied: idna<4,>=2.5 in /home/sua/.local/lib/python3.9/site-packages (from requests<3,>=2.21.0->tensorboard<2.11,>=2.10->tensorflow) (3.4)\n",
            "Requirement already satisfied: oauthlib>=3.0.0 in /home/sua/.local/lib/python3.9/site-packages (from requests-oauthlib>=0.7.0->google-auth-oauthlib<0.5,>=0.4.1->tensorboard<2.11,>=2.10->tensorflow) (3.2.1)\n",
            "Requirement already satisfied: MarkupSafe>=2.1.1 in /home/sua/.local/lib/python3.9/site-packages (from werkzeug>=1.0.1->tensorboard<2.11,>=2.10->tensorflow) (2.1.1)\n",
            "Requirement already satisfied: pyparsing!=3.0.5,>=2.0.2 in /home/sua/.local/lib/python3.9/site-packages (from packaging->tensorflow) (3.0.9)\n"
          ]
        }
      ],
      "source": [
        "# Install packages\n",
        "!pip install numpy\n",
        "!pip install pandas\n",
        "!pip install scikit-learn\n",
        "!pip install tensorflow\n"
      ]
    },
    {
      "cell_type": "code",
      "execution_count": 22,
      "metadata": {
        "id": "QFmpN-PJUB_E"
      },
      "outputs": [],
      "source": [
        "# Imports\n",
        "import numpy as np\n",
        "import pandas as pd\n",
        "import sklearn as sk\n",
        "from sklearn.model_selection import train_test_split\n",
        "from sklearn.decomposition import PCA\n",
        "from sklearn.neighbors import KNeighborsClassifier\n",
        "import tensorflow as tf\n",
        "import matplotlib\n",
        "import matplotlib.pyplot as plt\n"
      ]
    },
    {
      "cell_type": "code",
      "execution_count": 23,
      "metadata": {},
      "outputs": [],
      "source": [
        "############## Magic Constants ################\n",
        "# Filename settings\n",
        "FILE_PREFIX = \"./data/\"\n",
        "train_filename = FILE_PREFIX + \"train.csv\"\n",
        "test_filename = FILE_PREFIX + \"test.csv\"\n",
        "\n",
        "# Scrap me: test.csv doesn't include the transported column! Should always be false\n",
        "# Set to False if we want to only train and test on the train csv\n",
        "loadSeparateTestCsv = False\n",
        "\n",
        "# Set to true when we want to generate a submission for kaggle\n",
        "testSubmission = False\n",
        "\n",
        "# Common utility functions\n",
        "def checkNotSubmitting():\n",
        "    assert not testSubmission, \"Don't run this cell if creating a submission\"\n",
        "################################################"
      ]
    },
    {
      "cell_type": "code",
      "execution_count": 24,
      "metadata": {
        "id": "katpLGf8TMh_"
      },
      "outputs": [],
      "source": [
        "\n",
        "# We might want to mount a shared google drive so we don't have to reupload\n",
        "# everytime the session expires\n",
        "trainData = pd.read_csv(train_filename)\n",
        "data = None\n",
        "testData = None\n",
        "if loadSeparateTestCsv:\n",
        "    testData = pd.read_csv(test_filename)\n",
        "    data = pd.concat([trainData, testData])\n",
        "else:\n",
        "    data = trainData\n",
        "\n",
        "if testSubmission:\n",
        "    data = pd.read_csv(test_filename)\n",
        "\n",
        "# FEATURE MODIFICATION SETTINGS\n",
        "dropCols = [\"PassengerId\", \"Name\"]  # Columns to drop entirely\n",
        "# Binary columns to replace with 1's and 0's\n",
        "binaryCols = [\"CryoSleep\", \"VIP\", \"Transported\"]\n",
        "# Category columns that are commonly shared, dummies are built from these\n",
        "categoricalCols = []\n",
        "# Ok my idea for this is that for the fairly unique columns we should generate a numerical\n",
        "# id for each unique entry, then replace the column with the id. Generating dummies with these\n",
        "# just leads to a feature explosion.\n",
        "uniqueGeneratorCols = [\"Cabin\", \"HomePlanet\", \"Destination\"]\n",
        "###############################\n",
        "\n",
        "# Not sure why these features have NaN's, but we can (safely?) replace them with 0's.\n",
        "data[\"CryoSleep\"] = data[\"CryoSleep\"].fillna(value=False)\n",
        "data[\"VIP\"] = data[\"VIP\"].fillna(value=False)\n",
        "data[\"VRDeck\"] = data[\"VRDeck\"].fillna(value=0)\n",
        "data[\"ShoppingMall\"] = data[\"ShoppingMall\"].fillna(value=0)\n",
        "data[\"RoomService\"] = data[\"RoomService\"].fillna(value=0)\n",
        "data[\"FoodCourt\"] = data[\"FoodCourt\"].fillna(value=0)\n",
        "data[\"Spa\"] = data[\"Spa\"].fillna(value=0)\n",
        "# weird ones\n",
        "data[\"Cabin\"] = data[\"Cabin\"].fillna(value=\"UNKNOWN\")\n",
        "data[\"HomePlanet\"] = data[\"HomePlanet\"].fillna(value=\"UNKNOWN\")\n",
        "data[\"Destination\"] = data[\"Destination\"].fillna(value=\"UNKNOWN\")\n",
        "data[\"Age\"] = data[\"Age\"].fillna(value=-1)\n",
        "\n",
        "# test.csv doesn't have the transported column\n",
        "if testSubmission and \"Transported\" in binaryCols:\n",
        "    binaryCols.remove(\"Transported\")\n",
        "# We want to keep the passengerIds for submission\n",
        "if testSubmission and \"PassengerId\" in dropCols:\n",
        "    dropCols.remove(\"PassengerId\")\n",
        "\n",
        "data = data.drop(columns=dropCols)\n",
        "for c in binaryCols:\n",
        "    data[c] = data[c].astype(int)\n",
        "data = pd.get_dummies(data, columns=categoricalCols)\n",
        "# Generate unique ids per column\n",
        "for c in uniqueGeneratorCols:\n",
        "    data[c] = data[c].astype(\"category\").cat.rename_categories(\n",
        "        range(data[c].nunique()))\n",
        "\n",
        "# We don't want any nan data\n",
        "assert (not data.isnull().values.any())\n",
        "\n",
        "yCol = \"Transported\"\n",
        "X, y = None, None\n",
        "if not testSubmission:\n",
        "    X = data.drop(columns=yCol)\n",
        "    y = data[yCol]\n",
        "else:\n",
        "    X = data\n",
        "\n",
        "X_train, X_test, y_train, y_test = None, None, None, None\n",
        "if not testSubmission:\n",
        "    if testData is None:\n",
        "        X_train, X_test, y_train, y_test = train_test_split(X, y)\n",
        "    else:\n",
        "        X_train = X[: trainData.shape[0]]\n",
        "        X_test = X[trainData.shape[0]:]\n",
        "        y_train = y[: trainData.shape[0]]\n",
        "        y_test = y[trainData.shape[0]:]\n",
        "else:\n",
        "    X_test = X\n",
        "\n",
        "# print(data.head())\n",
        "# print(data.describe())\n"
      ]
    },
    {
      "cell_type": "code",
      "execution_count": 25,
      "metadata": {
        "colab": {
          "base_uri": "https://localhost:8080/",
          "height": 281
        },
        "id": "EvJyjTAtTOVb",
        "outputId": "40083b46-0b48-4373-dcf0-524075007ec8"
      },
      "outputs": [
        {
          "data": {
            "image/png": "[encoded data removed]",
            "text/plain": [
              "<Figure size 640x480 with 1 Axes>"
            ]
          },
          "metadata": {},
          "output_type": "display_data"
        }
      ],
      "source": [
        "# Data visualization\n",
        "# tSNE or PCA here\n",
        "\n",
        "checkNotSubmitting()\n",
        "\n",
        "pcaComps = 2\n",
        "pca = PCA(n_components=pcaComps)\n",
        "pca_train = pca.fit_transform(X_train, y_train)\n",
        "pca_test = pca.transform(X_test)\n",
        "\n",
        "if pcaComps == 2:\n",
        "    plt.scatter(pca_train[:, 0], pca_train[:, 1], c=y_train)\n",
        "plt.title(f\"PCA Visualization ({pcaComps} component)\")\n",
        "plt.show()\n",
        "\n",
        "# Feature importance graphing\n",
        "# todo\n",
        "estimators = 100  # todo: grid search me!\n",
        "#gbc = GradientBoostingClassifier(n_estimators=100)\n",
        "#gbc.fit(X_train, y_train)\n",
        "# todo: render the important features\n",
        "# look at my roommates code here: https://github.com/justincdavis/BowlGamesNN/blob/main/CFBowlGamesNN.ipynb\n"
      ]
    },
    {
      "cell_type": "code",
      "execution_count": null,
      "metadata": {},
      "outputs": [],
      "source": []
    },
    {
      "cell_type": "code",
      "execution_count": 75,
      "metadata": {
        "id": "vcvjyOF_I8Bn"
      },
      "outputs": [
        {
          "name": "stdout",
          "output_type": "stream",
          "text": [
            "---------------------------------Mutual Information-------------------------------------\n",
            "The MI score for HomePlanet is 0.005105602160949907\n",
            "The MI score for CryoSleep is 0.10408860633004036\n",
            "The MI score for Cabin is 0.0237268712484191\n",
            "The MI score for Destination is 0.0121226337139273\n",
            "The MI score for Age is 0.011716287407191217\n",
            "The MI score for VIP is 0.0\n",
            "The MI score for RoomService is 0.07234521718464038\n",
            "The MI score for FoodCourt is 0.05060054334295305\n",
            "The MI score for ShoppingMall is 0.04234140586491364\n",
            "The MI score for Spa is 0.08162007599548549\n",
            "The MI score for VRDeck is 0.06455077671056664\n",
            "\n",
            "The mean squared error when training on the MI selected features is 0.18440926189041354.\n",
            "\tWhen testing on the test data, the mean squared error is 0.18632025679869305\n",
            "---------------------------------Recursive Elimination----------------------------------\n",
            "The mean squared error when training on the RFE selected features is 0.1757945808966095.\n",
            "\tWhen testing on the test data, the mean squared error is 0.1779340380385558\n",
            "The most important features as determined by RFE were ['CryoSleep', 'RoomService', 'FoodCourt', 'Spa', 'VRDeck']\n",
            "---------------------------------Lasso Embedded Method----------------------------------\n",
            "The magniture of the feature coefficient for HomePlanet is 0.03502130806725634.\n",
            "The magniture of the feature coefficient for CryoSleep is 0.20184463761288862.\n",
            "The magniture of the feature coefficient for Cabin is 0.04652920315367246.\n",
            "The magniture of the feature coefficient for Destination is 0.025669774922885684.\n",
            "The magniture of the feature coefficient for Age is 0.022875935778923547.\n",
            "The magniture of the feature coefficient for VIP is 0.008690476352359491.\n",
            "The magniture of the feature coefficient for RoomService is 0.07919391176476491.\n",
            "The magniture of the feature coefficient for FoodCourt is 0.08655932099033983.\n",
            "The magniture of the feature coefficient for ShoppingMall is 0.04616673252281947.\n",
            "The magniture of the feature coefficient for Spa is 0.08612600879492324.\n",
            "The magniture of the feature coefficient for VRDeck is 0.07952805884574182.\n",
            "The mean squared error when training using lasso is 0.16768652221845173.\n",
            "\tWhen testing on the test data, the mean squared error is 0.16919805631495574\n"
          ]
        }
      ],
      "source": [
        "# Feature selection\n",
        "\n",
        "checkNotSubmitting()\n",
        "\n",
        "# can try filter, wrapper, and embedded methods: https://elearning.mines.edu/courses/40460/pages/instructional-learning-materials-feature-selection?module_item_id=529456\n",
        "# todo...\n",
        "\n",
        "### Notes ###\n",
        "# Justin: I am super referencing homework 4A Feature Selection here\n",
        "#         Not sure if everything will be fine as is, but we'll see\n",
        "# TODO Make it better...\n",
        "#      We can try different constants and metrics and models\n",
        "\n",
        "from sklearn.preprocessing import StandardScaler\n",
        "from sklearn.metrics import mean_squared_error\n",
        "from sklearn.feature_selection import SelectKBest\n",
        "from sklearn.linear_model import LinearRegression\n",
        "\n",
        "\n",
        "# Create a StandardScalar to standardize the passenger features\n",
        "scalar = sk.preprocessing.StandardScaler().fit(X=X_train)\n",
        "# XT_train and XT_test are like X_train and X_test,\n",
        "#  except that they are normalized.\n",
        "# Just didn't want to change the original values\n",
        "XT_train = scalar.transform(X=X_train)\n",
        "XT_test = scalar.transform(X=X_test)\n",
        "\n",
        "print(f\"---------------------------------Mutual Information-------------------------------------\")\n",
        "# Select the best features based on mutual information score from the training data,\n",
        "#  then transform XT_train and XT_test into the new subset of selected features\n",
        "\n",
        "k = 4 # Change this if needed\n",
        "mutual_information_transformer = sk.feature_selection.SelectKBest(\n",
        "    score_func=sk.feature_selection.mutual_info_regression,\n",
        "    k=k\n",
        ").fit(X=XT_train, y=y_train)\n",
        "MI_X_train = mutual_information_transformer.transform(X=XT_train)\n",
        "MI_X_test = mutual_information_transformer.transform(X=XT_test)\n",
        "\n",
        "# Print out the mutual informations\n",
        "# TODO looks like this works, but I'm worried about using data.columns\n",
        "for feature, importance in zip(data.columns, mutual_information_transformer.scores_):\n",
        "    print(f\"The MI score for {feature} is {importance}\")\n",
        "\n",
        "# Create a linear regression model to estimate\n",
        "miEst = LinearRegression().fit(MI_X_train, y_train)\n",
        "print(f\"\\nThe mean squared error when training on the MI selected features is {mean_squared_error(y_train, miEst.predict(MI_X_train))}.\")\n",
        "print(f\"\\tWhen testing on the test data, the mean squared error is {mean_squared_error(y_test, miEst.predict(MI_X_test))}\")\n",
        "\n",
        "print(f\"---------------------------------Recursive Elimination----------------------------------\")\n",
        "# Use recursive feature elimination (RFE) object to determine the k features to select \n",
        "# from X_train using a step of 2\n",
        "rfeEst = LinearRegression()\n",
        "\n",
        "rfe_transformer = sk.feature_selection.RFE(estimator=rfeEst, step=2).fit(X=XT_train,y=y_train)\n",
        "rfe_X_train = rfe_transformer.transform(X=XT_train)\n",
        "rfe_X_test = rfe_transformer.transform(X=XT_test)\n",
        "\n",
        "rfeEst = LinearRegression().fit(rfe_X_train, y_train)\n",
        "\n",
        "print(f\"The mean squared error when training on the RFE selected features is {mean_squared_error(y_train, rfeEst.predict(rfe_X_train))}.\")\n",
        "print(f\"\\tWhen testing on the test data, the mean squared error is {mean_squared_error(y_test, rfeEst.predict(rfe_X_test))}\")\n",
        "\n",
        "# TODO: Did some weird indexing into data for columns 0-10 (11 columns)\n",
        "#       The last column (transported) shouldn't be here? Idk.\n",
        "print(f\"The most important features as determined by RFE were {list(data.columns[:11][rfe_transformer.support_])}\")\n",
        "\n",
        "\n",
        "print(f\"---------------------------------Lasso Embedded Method----------------------------------\")\n",
        "lassoEst = sk.linear_model.LassoCV(n_alphas=10).fit(X=XT_train, y=y_train)\n",
        "for feature, coef in zip(data.columns, lassoEst.coef_):\n",
        "    print(f\"The magniture of the feature coefficient for {feature} is {abs(coef)}.\")\n",
        "\n",
        "print(f\"The mean squared error when training using lasso is {mean_squared_error(y_train, lassoEst.predict(XT_train))}.\")\n",
        "print(f\"\\tWhen testing on the test data, the mean squared error is {mean_squared_error(y_test, lassoEst.predict(XT_test))}\")"
      ]
    },
    {
      "cell_type": "code",
      "execution_count": null,
      "metadata": {
        "id": "MLlUvc4JI8DT"
      },
      "outputs": [],
      "source": [
        "# Feature extraction\n",
        "\n",
        "checkNotSubmitting()\n",
        "\n",
        "# we don't want to use tSNE, consider spectral embedding? maybe linear discriminant analysis?\n",
        "# todo...\n"
      ]
    },
    {
      "cell_type": "code",
      "execution_count": null,
      "metadata": {
        "id": "GzBQyzFzTQH1"
      },
      "outputs": [],
      "source": [
        "# Now we have the reduced dataset with high mutual information between each feature, time to run some models\n"
      ]
    },
    {
      "cell_type": "code",
      "execution_count": null,
      "metadata": {
        "id": "dkIsRYbXJHhx"
      },
      "outputs": [],
      "source": [
        "# knn or svm?\n",
        "\n",
        "checkNotSubmitting()\n"
      ]
    },
    {
      "cell_type": "code",
      "execution_count": null,
      "metadata": {
        "colab": {
          "base_uri": "https://localhost:8080/"
        },
        "id": "_EmSVKPBTTdy",
        "outputId": "64127b0c-ff9f-47cb-8b96-b4ea7910511f"
      },
      "outputs": [
        {
          "name": "stdout",
          "output_type": "stream",
          "text": [
            "Model: \"sequential\"\n",
            "_________________________________________________________________\n",
            " Layer (type)                Output Shape              Param #   \n",
            "=================================================================\n",
            " input_11x1 (Dense)          (None, 50)                600       \n",
            "                                                                 \n",
            " dense_0 (Dense)             (None, 50)                2550      \n",
            "                                                                 \n",
            " dense_1 (Dense)             (None, 50)                2550      \n",
            "                                                                 \n",
            " dense_2 (Dense)             (None, 50)                2550      \n",
            "                                                                 \n",
            " autoenc (Dense)             (None, 6)                 306       \n",
            "                                                                 \n",
            " output (Dense)              (None, 2)                 14        \n",
            "                                                                 \n",
            "=================================================================\n",
            "Total params: 8,570\n",
            "Trainable params: 8,570\n",
            "Non-trainable params: 0\n",
            "_________________________________________________________________\n"
          ]
        }
      ],
      "source": [
        "# Neural network\n",
        "\n",
        "# Model parameters\n",
        "activation = \"sigmoid\"\n",
        "outputActivation = \"sigmoid\"  # This should not change\n",
        "hiddenExpansionSize = 50\n",
        "denseHiddenLayers = 3\n",
        "autoencoderCompressionSize = 6\n",
        "##################\n",
        "\n",
        "# Andrew's model arch notes:\n",
        "# - do we progressively collapse when autoencoding or dense map straight to it?\n",
        "# - mess around with dropout layers to reduce overfitting\n",
        "\n",
        "checkNotSubmitting()\n",
        "\n",
        "layers = []\n",
        "layers.append(tf.keras.layers.Dense(hiddenExpansionSize, input_shape=(\n",
        "    X.shape[1],), activation=activation, name=f\"input_{X.shape[1]}x1\"))\n",
        "for i in range(denseHiddenLayers):\n",
        "    layers.append(tf.keras.layers.Dense(hiddenExpansionSize,\n",
        "                  activation=activation, name=f\"dense_{i}\"))\n",
        "layers.append(tf.keras.layers.Dense(autoencoderCompressionSize,\n",
        "              activation=activation, name=\"autoenc\"))\n",
        "layers.append(tf.keras.layers.Dense(\n",
        "    2, activation=outputActivation, name=\"output\"))\n",
        "\n",
        "dnn = tf.keras.Sequential(layers)\n",
        "dnn.build()\n",
        "dnn.summary()\n",
        "\n",
        "nnDefaultWeights = dnn.get_weights()\n"
      ]
    },
    {
      "cell_type": "code",
      "execution_count": null,
      "metadata": {
        "id": "q_F-4vegAVE2"
      },
      "outputs": [],
      "source": [
        "# Neural network compilation and training\n",
        "\n",
        "# TRAINING PARAMETERS\n",
        "learningRate = 0.001\n",
        "#lossFunc = \"binary_crossentropy\"\n",
        "lossFunc = \"mae\"\n",
        "epochs = 30\n",
        "batchSize = 1000\n",
        "#####################\n",
        "\n",
        "if not testSubmission:\n",
        "    optimizer = tf.keras.optimizers.Adam(learning_rate=learningRate)\n",
        "    #optimizer = tf.keras.optimizers.SGD()\n",
        "\n",
        "    dnn.compile(optimizer, loss=lossFunc, metrics=[\"accuracy\"])\n",
        "\n",
        "    dnn.set_weights(nnDefaultWeights)  # Reset if we already fit\n",
        "    dnn.fit(X_train, y_train, batch_size=batchSize, epochs=epochs)\n",
        "\n",
        "    nnMetrics = dnn.evaluate(X_test, y_test)\n",
        "    print(f\"NN evaluated accuracy: {nnMetrics}\")\n",
        "else:\n",
        "    predictions = dnn.predict(X_test.drop(\n",
        "        columns=[\"PassengerId\"]), batch_size=batchSize)\n",
        "    # We have 2 output nodes, we want to take the index of the node with greater activation\n",
        "    predictionsBinary = np.argmax(predictions, axis=1)\n",
        "    predictionsBinary = 1 - predictionsBinary  # Invert the result\n",
        "    outData = pd.DataFrame()\n",
        "    outData[\"PassengerId\"] = X_test[\"PassengerId\"]\n",
        "    outData[\"Transported\"] = predictionsBinary.astype(bool)\n",
        "    outData.to_csv(\"results.csv\", index=False)\n"
      ]
    }
  ],
  "metadata": {
    "colab": {
      "collapsed_sections": [],
      "include_colab_link": true,
      "provenance": []
    },
    "kernelspec": {
      "display_name": "Python 3.9.2 64-bit",
      "language": "python",
      "name": "python3"
    },
    "language_info": {
      "codemirror_mode": {
        "name": "ipython",
        "version": 3
      },
      "file_extension": ".py",
      "mimetype": "text/x-python",
      "name": "python",
      "nbconvert_exporter": "python",
      "pygments_lexer": "ipython3",
      "version": "3.9.2"
    },
    "vscode": {
      "interpreter": {
        "hash": "31f2aee4e71d21fbe5cf8b01ff0e069b9275f58929596ceb00d14d90e3e16cd6"
      }
    }
  },
  "nbformat": 4,
  "nbformat_minor": 0
}
