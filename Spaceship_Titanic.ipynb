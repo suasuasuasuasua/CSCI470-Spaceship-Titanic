{
  "cells": [
    {
      "cell_type": "markdown",
      "metadata": {},
      "source": [
        "# Prerequistite Packages"
      ]
    },
    {
      "cell_type": "code",
      "execution_count": 1,
      "metadata": {
        "colab": {
          "base_uri": "https://localhost:8080/"
        },
        "id": "dxBeBwllSve-",
        "outputId": "1ba6f378-4b2b-47ee-9ed0-0b77ebdab36c"
      },
      "outputs": [],
      "source": [
        "# Just comment and uncomment as necessary\n",
        "# The output is kinda annoying and crowded\n",
        "\n",
        "# Install packages\n",
        "# !pip install numpy\n",
        "# !pip install pandas\n",
        "# !pip install scikit-learn\n",
        "# !pip install tensorflow\n"
      ]
    },
    {
      "cell_type": "markdown",
      "metadata": {},
      "source": [
        "# Imports"
      ]
    },
    {
      "cell_type": "code",
      "execution_count": 2,
      "metadata": {
        "id": "QFmpN-PJUB_E"
      },
      "outputs": [],
      "source": [
        "import numpy as np\n",
        "import pandas as pd\n",
        "import sklearn as sk\n",
        "from sklearn.model_selection import train_test_split\n",
        "from sklearn.decomposition import PCA\n",
        "from sklearn.neighbors import KNeighborsClassifier\n",
        "import tensorflow as tf\n",
        "import matplotlib\n",
        "import matplotlib.pyplot as plt\n"
      ]
    },
    {
      "cell_type": "markdown",
      "metadata": {},
      "source": [
        "# Magic Constants"
      ]
    },
    {
      "cell_type": "code",
      "execution_count": 3,
      "metadata": {},
      "outputs": [],
      "source": [
        "# Filename settings\n",
        "FILE_PREFIX = \"./data/\"\n",
        "train_filename = FILE_PREFIX + \"train.csv\"\n",
        "test_filename = FILE_PREFIX + \"test.csv\"\n",
        "\n",
        "# Scrap me: test.csv doesn't include the transported column! Should always be false\n",
        "# Set to False if we want to only train and test on the train csv\n",
        "loadSeparateTestCsv = False\n",
        "\n",
        "# Set to true when we want to generate a submission for kaggle\n",
        "testSubmission = False\n",
        "\n",
        "# Common utility functions\n",
        "\n",
        "def checkNotSubmitting():\n",
        "    assert not testSubmission, \"Don't run this cell if creating a submission\"\n"
      ]
    },
    {
      "cell_type": "markdown",
      "metadata": {},
      "source": [
        "# Load and Split the File"
      ]
    },
    {
      "cell_type": "code",
      "execution_count": 4,
      "metadata": {
        "id": "katpLGf8TMh_"
      },
      "outputs": [],
      "source": [
        "# We might want to mount a shared google drive so we don't have to reupload\n",
        "# everytime the session expires\n",
        "trainData = pd.read_csv(train_filename)\n",
        "data = None\n",
        "testData = None\n",
        "if loadSeparateTestCsv:\n",
        "    testData = pd.read_csv(test_filename)\n",
        "    data = pd.concat([trainData, testData])\n",
        "else:\n",
        "    data = trainData\n",
        "\n",
        "if testSubmission:\n",
        "    data = pd.read_csv(test_filename)\n",
        "\n",
        "# FEATURE MODIFICATION SETTINGS\n",
        "dropCols = [\"PassengerId\", \"Name\"]  # Columns to drop entirely\n",
        "# Binary columns to replace with 1's and 0's\n",
        "binaryCols = [\"CryoSleep\", \"VIP\", \"Transported\"]\n",
        "# Category columns that are commonly shared, dummies are built from these\n",
        "categoricalCols = []\n",
        "# Ok my idea for this is that for the fairly unique columns we should generate a numerical\n",
        "# id for each unique entry, then replace the column with the id. Generating dummies with these\n",
        "# just leads to a feature explosion.\n",
        "uniqueGeneratorCols = [\"Cabin\", \"HomePlanet\", \"Destination\"]\n",
        "###############################\n",
        "\n",
        "# Not sure why these features have NaN's, but we can (safely?) replace them with 0's.\n",
        "data[\"CryoSleep\"] = data[\"CryoSleep\"].fillna(value=False)\n",
        "data[\"VIP\"] = data[\"VIP\"].fillna(value=False)\n",
        "data[\"VRDeck\"] = data[\"VRDeck\"].fillna(value=0)\n",
        "data[\"ShoppingMall\"] = data[\"ShoppingMall\"].fillna(value=0)\n",
        "data[\"RoomService\"] = data[\"RoomService\"].fillna(value=0)\n",
        "data[\"FoodCourt\"] = data[\"FoodCourt\"].fillna(value=0)\n",
        "data[\"Spa\"] = data[\"Spa\"].fillna(value=0)\n",
        "# weird ones\n",
        "data[\"Cabin\"] = data[\"Cabin\"].fillna(value=\"UNKNOWN\")\n",
        "data[\"HomePlanet\"] = data[\"HomePlanet\"].fillna(value=\"UNKNOWN\")\n",
        "data[\"Destination\"] = data[\"Destination\"].fillna(value=\"UNKNOWN\")\n",
        "data[\"Age\"] = data[\"Age\"].fillna(value=-1)\n",
        "\n",
        "# test.csv doesn't have the transported column\n",
        "if testSubmission and \"Transported\" in binaryCols:\n",
        "    binaryCols.remove(\"Transported\")\n",
        "# We want to keep the passengerIds for submission\n",
        "if testSubmission and \"PassengerId\" in dropCols:\n",
        "    dropCols.remove(\"PassengerId\")\n",
        "\n",
        "data = data.drop(columns=dropCols)\n",
        "for c in binaryCols:\n",
        "    data[c] = data[c].astype(int)\n",
        "data = pd.get_dummies(data, columns=categoricalCols)\n",
        "# Generate unique ids per column\n",
        "for c in uniqueGeneratorCols:\n",
        "    data[c] = data[c].astype(\"category\").cat.rename_categories(\n",
        "        range(data[c].nunique()))\n",
        "\n",
        "# We don't want any nan data\n",
        "assert (not data.isnull().values.any())\n",
        "\n",
        "yCol = \"Transported\"\n",
        "X, y = None, None\n",
        "if not testSubmission:\n",
        "    X = data.drop(columns=yCol)\n",
        "    y = data[yCol]\n",
        "else:\n",
        "    X = data\n",
        "\n",
        "X_train, X_test, y_train, y_test = None, None, None, None\n",
        "if not testSubmission:\n",
        "    if testData is None:\n",
        "        X_train, X_test, y_train, y_test = train_test_split(X, y)\n",
        "    else:\n",
        "        X_train = X[: trainData.shape[0]]\n",
        "        X_test = X[trainData.shape[0]:]\n",
        "        y_train = y[: trainData.shape[0]]\n",
        "        y_test = y[trainData.shape[0]:]\n",
        "else:\n",
        "    X_test = X\n",
        "\n",
        "# print(data.head())\n",
        "# print(data.describe())\n"
      ]
    },
    {
      "cell_type": "markdown",
      "metadata": {},
      "source": [
        "# Data Visualization"
      ]
    },
    {
      "cell_type": "code",
      "execution_count": 5,
      "metadata": {
        "colab": {
          "base_uri": "https://localhost:8080/",
          "height": 281
        },
        "id": "EvJyjTAtTOVb",
        "outputId": "40083b46-0b48-4373-dcf0-524075007ec8"
      },
      "outputs": [
        {
          "data": {
            "image/png": "[encoded data removed]",
            "text/plain": [
              "<Figure size 432x288 with 1 Axes>"
            ]
          },
          "metadata": {
            "needs_background": "light"
          },
          "output_type": "display_data"
        }
      ],
      "source": [
        "# tSNE or PCA here\n",
        "\n",
        "checkNotSubmitting()\n",
        "\n",
        "pcaComps = 2\n",
        "pca = PCA(n_components=pcaComps)\n",
        "pca_train = pca.fit_transform(X_train, y_train)\n",
        "pca_test = pca.transform(X_test)\n",
        "\n",
        "if pcaComps == 2:\n",
        "    plt.scatter(pca_train[:, 0], pca_train[:, 1], c=y_train)\n",
        "plt.title(f\"PCA Visualization ({pcaComps} component)\")\n",
        "plt.show()\n",
        "\n",
        "# Feature importance graphing\n",
        "# todo\n",
        "estimators = 100  # todo: grid search me!\n",
        "#gbc = GradientBoostingClassifier(n_estimators=100)\n",
        "#gbc.fit(X_train, y_train)\n",
        "# todo: render the important features\n",
        "# look at my roommates code here: https://github.com/justincdavis/BowlGamesNN/blob/main/CFBowlGamesNN.ipynb\n"
      ]
    },
    {
      "cell_type": "markdown",
      "metadata": {},
      "source": [
        "# Find Models\n",
        "\n",
        "As we are predicting which passengers have been sent to the anomaly, this is naturally a classification problem.\n",
        "\n",
        "https://scikit-learn.org/stable/tutorial/machine_learning_map/index.html\n",
        "\n",
        "Here, we'll explore supervised, classification models. Some are better than others."
      ]
    },
    {
      "cell_type": "code",
      "execution_count": 6,
      "metadata": {},
      "outputs": [],
      "source": [
        "# Models\n",
        "from sklearn.svm import SVC, LinearSVC\n",
        "from sklearn.naive_bayes import GaussianNB, BernoulliNB\n",
        "from sklearn.linear_model import SGDClassifier\n",
        "from sklearn.model_selection import GridSearchCV\n",
        "\n",
        "# Metrics\n",
        "from sklearn.metrics import f1_score\n",
        "from sklearn.metrics import mean_squared_error\n"
      ]
    },
    {
      "cell_type": "markdown",
      "metadata": {},
      "source": [
        "## SVCs"
      ]
    },
    {
      "cell_type": "code",
      "execution_count": 7,
      "metadata": {},
      "outputs": [
        {
          "name": "stdout",
          "output_type": "stream",
          "text": [
            "Model: SVC(kernel='sigmoid')\n",
            "Kernel: sigmoid\n",
            "The F1 score is 0.5020842982862437\n",
            "The MSE is 0.4944802207911684\n",
            "\n",
            "Model: SVC()\n",
            "Kernel: rbf\n",
            "The F1 score is 0.7928601079286011\n",
            "The MSE is 0.22953081876724932\n",
            "\n",
            "Model: SVC(kernel='poly')\n",
            "Kernel: poly\n",
            "The F1 score is 0.7693492491336157\n",
            "The MSE is 0.2755289788408464\n",
            "\n"
          ]
        }
      ],
      "source": [
        "# https://scikit-learn.org/stable/modules/generated/sklearn.svm.SVC.html\n",
        "kernels = {'poly', 'rbf', 'sigmoid'}\n",
        "\n",
        "for kernel in kernels:\n",
        "    clf = SVC(kernel=kernel, gamma=\"scale\").fit(X=X_train, y=y_train)\n",
        "    predictions = clf.predict(X=X_test)\n",
        "\n",
        "    print(f\"Model: {clf}\")\n",
        "    print(f\"Kernel: {kernel}\")\n",
        "    print(f\"The F1 score is {f1_score(y_true=y_test, y_pred=predictions)}\")\n",
        "    print(\n",
        "        f\"The MSE is {mean_squared_error(y_true=y_test, y_pred=predictions)}\\n\")\n"
      ]
    },
    {
      "cell_type": "code",
      "execution_count": 8,
      "metadata": {},
      "outputs": [
        {
          "name": "stdout",
          "output_type": "stream",
          "text": [
            "Model: LinearSVC(dual=False, penalty='l1')\n",
            "The f1 score is 0.771545827633379\n",
            "The MSE is 0.23045078196872126\n",
            "\n",
            "Model: LinearSVC(dual=False)\n",
            "The f1 score is 0.7709854014598541\n",
            "The MSE is 0.23091076356945722\n",
            "\n"
          ]
        }
      ],
      "source": [
        "# https://scikit-learn.org/stable/modules/generated/sklearn.svm.SVC.html\n",
        "\n",
        "clf = LinearSVC(penalty=\"l1\", loss=\"squared_hinge\",\n",
        "                dual=False).fit(X=X_train, y=y_train)\n",
        "predictions = clf.predict(X=X_test)\n",
        "\n",
        "print(f\"Model: {clf}\")\n",
        "print(f\"The f1 score is {f1_score(y_true=y_test, y_pred=predictions)}\")\n",
        "print(\n",
        "    f\"The MSE is {mean_squared_error(y_true=y_test, y_pred=predictions)}\\n\")\n",
        "\n",
        "clf = LinearSVC(penalty=\"l2\", dual=False).fit(X=X_train, y=y_train)\n",
        "predictions = clf.predict(X=X_test)\n",
        "\n",
        "print(f\"Model: {clf}\")\n",
        "print(f\"The f1 score is {f1_score(y_true=y_test, y_pred=predictions)}\")\n",
        "print(\n",
        "    f\"The MSE is {mean_squared_error(y_true=y_test, y_pred=predictions)}\\n\")\n"
      ]
    },
    {
      "cell_type": "markdown",
      "metadata": {},
      "source": [
        "## Naive Bayes"
      ]
    },
    {
      "cell_type": "code",
      "execution_count": 9,
      "metadata": {},
      "outputs": [
        {
          "name": "stdout",
          "output_type": "stream",
          "text": [
            "Model: GaussianNB()\n",
            "The f1 score is 0.757983839938438\n",
            "The MSE is 0.2893284268629255\n",
            "\n",
            "Model: BernoulliNB()\n",
            "The f1 score is 0.7212150906418423\n",
            "The MSE is 0.26172953081876726\n",
            "\n"
          ]
        }
      ],
      "source": [
        "naive_bayes_models = (GaussianNB(), BernoulliNB())\n",
        "for model in naive_bayes_models:\n",
        "    clf = model.fit(X=X_train, y=y_train)\n",
        "    predictions = clf.predict(X=X_test)\n",
        "\n",
        "    print(f\"Model: {clf}\")\n",
        "    print(f\"The f1 score is {f1_score(y_true=y_test, y_pred=predictions)}\")\n",
        "    print(\n",
        "        f\"The MSE is {mean_squared_error(y_true=y_test, y_pred=predictions)}\\n\")\n"
      ]
    },
    {
      "cell_type": "markdown",
      "metadata": {},
      "source": [
        "## Stochastic Gradient Descent"
      ]
    },
    {
      "cell_type": "code",
      "execution_count": 10,
      "metadata": {},
      "outputs": [
        {
          "name": "stdout",
          "output_type": "stream",
          "text": [
            "Best model: SGDClassifier(loss='squared_hinge', max_iter=5000, n_jobs=-1, penalty='l1')\n",
            "The best f1 score is 0.7849206349206349\n",
            "Best model: SGDClassifier(loss='squared_hinge', max_iter=5000, n_jobs=-1, penalty='l1')\n",
            "The best MSE is 0.24931002759889603\n",
            "\n"
          ]
        }
      ],
      "source": [
        "losses = {'hinge', 'log_loss', 'modified_huber', 'squared_hinge', 'perceptron',\n",
        "          'squared_error', 'huber', 'epsilon_insensitive', 'squared_epsilon_insensitive'}\n",
        "penalties = {'l2', 'l1', 'elasticnet'}\n",
        "\n",
        "\n",
        "best_f1 = 0\n",
        "lowest_mse = 1\n",
        "best_model_f1 = SGDClassifier()\n",
        "best_model_mse = SGDClassifier()\n",
        "\n",
        "for loss in losses:\n",
        "    for penalty in penalties:\n",
        "        clf = SGDClassifier(loss=loss, penalty=penalty,\n",
        "                            max_iter=5000, n_jobs=-1).fit(X=X_train, y=y_train)\n",
        "        predictions = clf.predict(X=X_test)\n",
        "\n",
        "        f1 = f1_score(y_true=y_test, y_pred=predictions)\n",
        "        mse = mean_squared_error(y_true=y_test, y_pred=predictions)\n",
        "\n",
        "        if (f1 > best_f1):\n",
        "            best_f1 = f1\n",
        "            best_model_f1 = clf\n",
        "        if (mse < lowest_mse):\n",
        "            lowest_mse = mse\n",
        "            best_model_mse = clf\n",
        "\n",
        "print(f\"Best model: {best_model_f1}\")\n",
        "print(f\"The best f1 score is {best_f1}\")\n",
        "print(f\"Best model: {best_model_mse}\")\n",
        "print(f\"The best MSE is {lowest_mse}\\n\")\n"
      ]
    },
    {
      "cell_type": "markdown",
      "metadata": {},
      "source": [
        "## SVMs"
      ]
    },
    {
      "cell_type": "code",
      "execution_count": 11,
      "metadata": {},
      "outputs": [],
      "source": [
        "# 2c_SL_SVM_Kernel.ipynb\n",
        "# TODO SVM takes A REALLY LONG TIME (30+ and it didn't finish), even with reduced parameters\n",
        "#      It was slow even on MIO, so not sure what to do there\n",
        "\n",
        "# params = {\n",
        "#     \"kernel\": [\"linear\", \"poly\"],\n",
        "#     \"degree\": [1, 2, 3],\n",
        "#     \"C\": [1e-5, 1e-4, 1e-3, 1e-2, 1e-1, 1, 1e2, 1e3, 1e4],\n",
        "#     \"random_state\": [0],\n",
        "#     \"gamma\": [\"auto\"]\n",
        "# }\n",
        "# clf = GridSearchCV(estimator=SVC(), param_grid=params,\n",
        "#                    scoring=\"f1_weighted\", cv=10, n_jobs=-1)\n",
        "\n",
        "# clf.fit(X=X_train, y=y_train)\n",
        "# print(f\"The best estimator is {clf.best_estimator_}\")\n",
        "# print(f\"Best score on training data: {clf.best_score_}\")\n",
        "\n",
        "# testScore = clf.score(X=X_test, y=y_test)\n",
        "# print(f\"Best score on testing data: {testScore}\")\n"
      ]
    },
    {
      "cell_type": "markdown",
      "metadata": {},
      "source": [
        "# Feature selection\n",
        "\n",
        "Feature selection is a feature learning approach to **select a subset of the features** from our data to use for a particular task."
      ]
    },
    {
      "cell_type": "code",
      "execution_count": 12,
      "metadata": {
        "id": "vcvjyOF_I8Bn"
      },
      "outputs": [],
      "source": [
        "from sklearn.preprocessing import StandardScaler\n",
        "from sklearn.feature_selection import SelectKBest\n",
        "from sklearn.linear_model import LinearRegression\n",
        "\n",
        "checkNotSubmitting()\n",
        "\n",
        "# References homework 4a_FL_Feature_Selection.ipynb\n",
        "# Create a StandardScalar to standardize the passenger features\n",
        "scalar = sk.preprocessing.StandardScaler().fit(X=X_train)\n",
        "# Don't want to change the original values\n",
        "XT_train = scalar.transform(X=X_train)\n",
        "XT_test = scalar.transform(X=X_test)\n"
      ]
    },
    {
      "cell_type": "markdown",
      "metadata": {},
      "source": [
        "## Filter Methods (Mutual Information)\n",
        "\n",
        "Filter methods directly **select a subset from the features** using a metric that they filter by.\n",
        "\n",
        "An example filter method would be using the **mutual information score between features to determine the redundancy** in the data. \n",
        "With the goal of reducing dimensionality by minimizing redundancy we can then **remove features based on the highest amount of redundancy calculated by the mutual information.**\n",
        "\n",
        "\\+ Low computation cost\n",
        "\n",
        "\\+ Robust to overfitting. \n",
        "\n",
        "\\+ Good value for computation time and effort \n",
        "\n",
        "\\- Filter methods are also greedy which means that they may not get the best possible results."
      ]
    },
    {
      "cell_type": "code",
      "execution_count": 13,
      "metadata": {},
      "outputs": [
        {
          "name": "stdout",
          "output_type": "stream",
          "text": [
            "---------------------------------Mutual Information-------------------------------------\n",
            "Model: <class 'sklearn.neighbors._classification.KNeighborsClassifier'>\n",
            "The lowest MSE for the MI selected features is 0.15539193127780335 with k = 9\n",
            "The f1 score is 0.8446098459069228\n",
            "\n",
            "The lowest MSE for on the test data is 0.22447102115915363 with k = 10\n",
            "The f1 score is 0.775522139457806\n",
            "\n",
            "Model: <class 'sklearn.naive_bayes.GaussianNB'>\n",
            "The lowest MSE for the MI selected features is 0.28071790151863785 with k = 1\n",
            "The f1 score is 0.7130154214437884\n",
            "\n",
            "The lowest MSE for on the test data is 0.27920883164673416 with k = 10\n",
            "The f1 score is 0.7095877218638335\n",
            "\n"
          ]
        }
      ],
      "source": [
        "print(f\"---------------------------------Mutual Information-------------------------------------\")\n",
        "\n",
        "# Create set of models to estimate on\n",
        "model_estimators = [KNeighborsClassifier, GaussianNB]\n",
        "\n",
        "# Select the best features based on mutual information score from the training data,\n",
        "#  then transform XT_train and XT_test into the new subset of selected features\n",
        "for model in model_estimators:\n",
        "    print(f\"Model: {model}\")\n",
        "    # Set up tracker variables\n",
        "    best_k_MI = 0\n",
        "    best_k_test = 0\n",
        "    best_predictions_MI = np.zeros(1)\n",
        "    best_predictions_test = np.zeros(1)\n",
        "    lowest_mse_MI = 1\n",
        "    lowest_mse_test = 1\n",
        "\n",
        "    max_k = 11\n",
        "    for k in range(1, max_k):\n",
        "        mutual_information_transformer = sk.feature_selection.SelectKBest(\n",
        "            score_func=sk.feature_selection.mutual_info_regression,\n",
        "            k=k\n",
        "        ).fit(X=XT_train, y=y_train)\n",
        "        MI_X_train = mutual_information_transformer.transform(X=XT_train)\n",
        "        MI_X_test = mutual_information_transformer.transform(X=XT_test)\n",
        "\n",
        "        # Create model and estimate\n",
        "        miEst = model().fit(X=MI_X_train, y=y_train)\n",
        "        train_predictions = miEst.predict(X=MI_X_train)\n",
        "        test_predictions = miEst.predict(X=MI_X_test)\n",
        "\n",
        "        mse_MI = mean_squared_error(y_true=y_train, y_pred=train_predictions)\n",
        "        mse_test = mean_squared_error(y_true=y_test, y_pred=test_predictions)\n",
        "        if (mse_MI < lowest_mse_MI):\n",
        "            best_k_MI = k\n",
        "            lowest_mse_MI = mse_MI\n",
        "            best_predictions_MI = train_predictions\n",
        "        if (mse_test < lowest_mse_test):\n",
        "            best_k_test = k\n",
        "            lowest_mse_test = mse_test\n",
        "            best_predictions_test = test_predictions\n",
        "\n",
        "    print(\n",
        "        f\"The lowest MSE for the MI selected features is {lowest_mse_MI} with k = {best_k_MI}\")\n",
        "    print(\n",
        "        f\"The f1 score is {f1_score(y_train, best_predictions_MI, average='weighted')}\\n\")\n",
        "    print(\n",
        "        f\"The lowest MSE for on the test data is {lowest_mse_test} with k = {best_k_test}\")\n",
        "    print(\n",
        "        f\"The f1 score is {f1_score(y_test, best_predictions_test, average='weighted')}\\n\")\n"
      ]
    },
    {
      "cell_type": "markdown",
      "metadata": {},
      "source": [
        "## Wrapper Methods (Recursive Feature Elimination)\n",
        "\n",
        "Wrapper methods will **loop through the subset selection and model training stages.**\n",
        "\n",
        "An example wrapper method is recursive feature elimination (RFE). RFE utilizes models that provide a coefficient for each feature that represents its applicability or use in determining the target of the model.\n",
        "\n",
        "\\+ Usually perform better than filter methods. \n",
        "\n",
        "\\- They are also usually greedy methods, will \n",
        "\n",
        "\\- Require more computation time than filter methods \n",
        "\n",
        "\\- Prone to overfitting."
      ]
    },
    {
      "cell_type": "code",
      "execution_count": 14,
      "metadata": {},
      "outputs": [],
      "source": [
        "from sklearn.linear_model import Ridge, Lasso, ElasticNet\n"
      ]
    },
    {
      "cell_type": "code",
      "execution_count": 15,
      "metadata": {},
      "outputs": [
        {
          "name": "stdout",
          "output_type": "stream",
          "text": [
            "---------------------------------Recursive Elimination----------------------------------\n",
            "Model: LinearRegression(n_jobs=-1)\n",
            "The lowest MSE for the RFE selected features is 0.17566067090712922 with step = 1\n",
            "The most important features as determined by RFE were ['CryoSleep', 'RoomService', 'FoodCourt', 'Spa', 'VRDeck']\n",
            "The lowest MSE for on the test data is 0.17838734917664445 with step = 0\n",
            "\n",
            "Model: Ridge()\n",
            "The lowest MSE for the RFE selected features is 0.17566067256567708 with step = 1\n",
            "The most important features as determined by RFE were ['CryoSleep', 'RoomService', 'FoodCourt', 'Spa', 'VRDeck']\n",
            "The lowest MSE for on the test data is 0.17838602711223536 with step = 0\n",
            "\n",
            "Model: Lasso()\n",
            "The lowest MSE for the RFE selected features is 0.24997665149137135 with step = 1\n",
            "The most important features as determined by RFE were ['RoomService', 'FoodCourt', 'ShoppingMall', 'Spa', 'VRDeck']\n",
            "The lowest MSE for on the test data is 0.2500233485086286 with step = 0\n",
            "\n",
            "Model: ElasticNet()\n",
            "The lowest MSE for the RFE selected features is 0.24997665149137135 with step = 1\n",
            "The most important features as determined by RFE were ['RoomService', 'FoodCourt', 'ShoppingMall', 'Spa', 'VRDeck']\n",
            "The lowest MSE for on the test data is 0.2500233485086286 with step = 0\n",
            "\n"
          ]
        }
      ],
      "source": [
        "print(f\"---------------------------------Recursive Elimination----------------------------------\")\n",
        "\n",
        "# RFE only works with LinearRegression-like models for some reason\n",
        "model_estimators = [LinearRegression(\n",
        "    n_jobs=-1), Ridge(), Lasso(), ElasticNet()]\n",
        "\n",
        "for model in model_estimators:\n",
        "    lowest_mse_rfe = 1\n",
        "    lowest_mse_test = 1\n",
        "    best_step_rfe = 0\n",
        "    best_step_test = 0\n",
        "    most_important_rfe = list()\n",
        "    most_important_test = list()\n",
        "\n",
        "    # Use recursive feature elimination (RFE) object to determine the k features to select\n",
        "    # from X_train using a variable step size\n",
        "    max_steps = 11\n",
        "    for step in range(1, 11):\n",
        "        rfe_transformer = sk.feature_selection.RFE(\n",
        "            estimator=model, step=step).fit(X=XT_train, y=y_train)\n",
        "        rfe_X_train = rfe_transformer.transform(X=XT_train)\n",
        "        rfe_X_test = rfe_transformer.transform(X=XT_test)\n",
        "\n",
        "        rfeEst = model.fit(rfe_X_train, y_train)\n",
        "        train_predictions = rfeEst.predict(X=rfe_X_train)\n",
        "        test_predictions = rfeEst.predict(X=rfe_X_test)\n",
        "\n",
        "        mse_rfe = mean_squared_error(y_true=y_train, y_pred=train_predictions)\n",
        "        mse_test = mean_squared_error(y_true=y_test, y_pred=test_predictions)\n",
        "\n",
        "        if (mse_rfe < lowest_mse_rfe):\n",
        "            best_step_rfe = step\n",
        "            lowest_mse_rfe = mse_rfe\n",
        "            most_important_rfe = list(\n",
        "                data.columns[:11][rfe_transformer.support_])\n",
        "        if (mse_test < lowest_mse_test):\n",
        "            best_k_test = k\n",
        "            lowest_mse_test = mse_test\n",
        "            most_important_test = list(\n",
        "                data.columns[:11][rfe_transformer.support_])\n",
        "\n",
        "    print(f\"Model: {model}\")\n",
        "    print(\n",
        "        f\"The lowest MSE for the RFE selected features is {lowest_mse_rfe} with step = {best_step_rfe}\")\n",
        "    print(\n",
        "        f\"The most important features as determined by RFE were {list(data.columns[:11][rfe_transformer.support_])}\")\n",
        "    print(\n",
        "        f\"The lowest MSE for on the test data is {lowest_mse_test} with step = {best_step_test}\\n\")\n"
      ]
    },
    {
      "cell_type": "markdown",
      "metadata": {},
      "source": [
        "## Embedded Methods\n",
        "\n",
        "Embedded methods will loop through the subset selection, model training and evaluation stages.\n",
        "\n",
        "Based on the trained model parameters and performance, the embedded method will select a new subset. Examples of embedded feature selection methods are any of the regularization based regression methods we discussed previously.\n"
      ]
    },
    {
      "cell_type": "code",
      "execution_count": 16,
      "metadata": {},
      "outputs": [],
      "source": [
        "from sklearn.linear_model import RidgeCV, LassoCV\n"
      ]
    },
    {
      "cell_type": "code",
      "execution_count": 17,
      "metadata": {},
      "outputs": [
        {
          "name": "stdout",
          "output_type": "stream",
          "text": [
            "---------------------------------Lasso Embedded Method----------------------------------\n",
            "RidgeCV(alphas=array([  1.        ,   1.0990991 ,   1.1981982 ,   1.2972973 ,\n",
            "         1.3963964 ,   1.4954955 ,   1.59459459,   1.69369369,\n",
            "         1.79279279,   1.89189189,   1.99099099,   2.09009009,\n",
            "         2.18918919,   2.28828829,   2.38738739,   2.48648649,\n",
            "         2.58558559,   2.68468468,   2.78378378,   2.88288288,\n",
            "         2.98198198,   3.08108108,   3.18018018,   3.27927928,\n",
            "         3.37837838,   3.47747748,   3.57657658,   3.67567568,\n",
            "         3.77477477,   3.87387387,   3.97297297,...\n",
            "        96.92792793,  97.02702703,  97.12612613,  97.22522523,\n",
            "        97.32432432,  97.42342342,  97.52252252,  97.62162162,\n",
            "        97.72072072,  97.81981982,  97.91891892,  98.01801802,\n",
            "        98.11711712,  98.21621622,  98.31531532,  98.41441441,\n",
            "        98.51351351,  98.61261261,  98.71171171,  98.81081081,\n",
            "        98.90990991,  99.00900901,  99.10810811,  99.20720721,\n",
            "        99.30630631,  99.40540541,  99.5045045 ,  99.6036036 ,\n",
            "        99.7027027 ,  99.8018018 ,  99.9009009 , 100.        ]))\n",
            "The best mean squared error when training is 0.16663007649927566\n",
            "The best mean squared error on the test data is 0.17238569875593804\n",
            "\n",
            "LassoCV(alphas=array([  1.        ,   1.0990991 ,   1.1981982 ,   1.2972973 ,\n",
            "         1.3963964 ,   1.4954955 ,   1.59459459,   1.69369369,\n",
            "         1.79279279,   1.89189189,   1.99099099,   2.09009009,\n",
            "         2.18918919,   2.28828829,   2.38738739,   2.48648649,\n",
            "         2.58558559,   2.68468468,   2.78378378,   2.88288288,\n",
            "         2.98198198,   3.08108108,   3.18018018,   3.27927928,\n",
            "         3.37837838,   3.47747748,   3.57657658,   3.67567568,\n",
            "         3.77477477,   3.87387387,   3.97297297,...\n",
            "        96.92792793,  97.02702703,  97.12612613,  97.22522523,\n",
            "        97.32432432,  97.42342342,  97.52252252,  97.62162162,\n",
            "        97.72072072,  97.81981982,  97.91891892,  98.01801802,\n",
            "        98.11711712,  98.21621622,  98.31531532,  98.41441441,\n",
            "        98.51351351,  98.61261261,  98.71171171,  98.81081081,\n",
            "        98.90990991,  99.00900901,  99.10810811,  99.20720721,\n",
            "        99.30630631,  99.40540541,  99.5045045 ,  99.6036036 ,\n",
            "        99.7027027 ,  99.8018018 ,  99.9009009 , 100.        ]))\n",
            "The best mean squared error when training is 0.24997665149137135\n",
            "The best mean squared error on the test data is 0.2500233485086286\n",
            "\n"
          ]
        }
      ],
      "source": [
        "print(f\"---------------------------------Lasso Embedded Method----------------------------------\")\n",
        "\n",
        "model_estimators = [RidgeCV, LassoCV]\n",
        "alphas = np.linspace(1, 100, 1000)\n",
        "\n",
        "for model in model_estimators:\n",
        "\n",
        "    max_alphas = 1001\n",
        "    modelEst = model(alphas=alphas).fit(X=XT_train, y=y_train)\n",
        "\n",
        "    train_predictions = modelEst.predict(XT_train)\n",
        "    test_predictions = modelEst.predict(XT_test)\n",
        "\n",
        "    mse_model = mean_squared_error(y_train, train_predictions)\n",
        "    mse_test = mean_squared_error(y_test, test_predictions)\n",
        "\n",
        "    print(modelEst)\n",
        "    print(f\"The best mean squared error when training is {mse_model}\")\n",
        "    print(f\"The best mean squared error on the test data is {mse_test}\\n\")\n"
      ]
    },
    {
      "cell_type": "code",
      "execution_count": 18,
      "metadata": {
        "id": "MLlUvc4JI8DT"
      },
      "outputs": [],
      "source": [
        "\n",
        "from sklearn.metrics import f1_score\n",
        "from sklearn.svm import LinearSVC\n",
        "from sklearn.manifold import SpectralEmbedding\n",
        "\n",
        "checkNotSubmitting()\n"
      ]
    },
    {
      "cell_type": "markdown",
      "metadata": {},
      "source": [
        "## Spectral Embedding + SVC"
      ]
    },
    {
      "cell_type": "code",
      "execution_count": 19,
      "metadata": {},
      "outputs": [
        {
          "data": {
            "image/png": "[encoded data removed]",
            "text/plain": [
              "<Figure size 432x288 with 1 Axes>"
            ]
          },
          "metadata": {
            "needs_background": "light"
          },
          "output_type": "display_data"
        },
        {
          "name": "stdout",
          "output_type": "stream",
          "text": [
            "The Spectral Embedding + Linear SVM scores an F-1 = 0.667.\n"
          ]
        }
      ],
      "source": [
        "# Justin: This is copied from 4b_FL_Feature_Extraction.ipynb\n",
        "#         We can toy around to make it better, but this is a start\n",
        "\n",
        "spectral_transformer = SpectralEmbedding().fit(X=X_train, y=y_train)\n",
        "spectral_embedding = spectral_transformer.embedding_\n",
        "plt.scatter(spectral_embedding[:, 0], spectral_embedding[:, 1], c=y_train)\n",
        "plt.title(\"Spectral Embedding\")\n",
        "plt.show()\n",
        "\n",
        "X_complete = pd.concat([X_train, X_test])\n",
        "size_Xtrain = len(X_train)\n",
        "\n",
        "spectral_model = SpectralEmbedding()\n",
        "spectral_train = spectral_model.fit_transform(\n",
        "    X=X_complete[:size_Xtrain], y=y_train\n",
        ")\n",
        "spectral_test = spectral_model.fit_transform(\n",
        "    X=X_complete[size_Xtrain:], y=y_test\n",
        ")\n",
        "\n",
        "spectral_svc = LinearSVC().fit(X=spectral_train, y=y_train)\n",
        "print(\n",
        "    f\"The Spectral Embedding + Linear SVM scores an F-1 = {f1_score(y_test, spectral_svc.predict(spectral_test)):.3f}.\")\n"
      ]
    },
    {
      "cell_type": "markdown",
      "metadata": {
        "id": "GzBQyzFzTQH1"
      },
      "source": [
        "# Model Testing\n",
        "\n",
        "Now we have the reduced dataset with high mutual information between each feature, time to run some models\n"
      ]
    },
    {
      "cell_type": "code",
      "execution_count": 21,
      "metadata": {
        "id": "dkIsRYbXJHhx"
      },
      "outputs": [],
      "source": [
        "# knn or svm?\n",
        "# Justin: I think that KNN performed fairly well in the Filter + Mutual \n",
        "#         Information testing\n",
        "#         For the SVMs, they performed relatively well, but the f1 scores weren't\n",
        "#         nearly as close to the KNN\n",
        "#         One thing to note is that I ran the models on the original dataset and some\n",
        "#         on the transformed/normalized dataset\n",
        "#         Does it matter? Maybe.\n",
        "#\n",
        "# TODO    Test it out alone or in combination with other methods.\n",
        "# TODO    Run the same models on the reduced or extracted datasets\n",
        "\n",
        "checkNotSubmitting()\n"
      ]
    },
    {
      "cell_type": "markdown",
      "metadata": {},
      "source": [
        "# Neural network\n",
        "\n",
        "We can never go wrong with a neural network.\n",
        "\n",
        "So far, this is the highest scoring model. However, we can probably get better\n",
        "scores by tweaking the number of nodes in each layer, number of dropout layers,\n",
        "etc."
      ]
    },
    {
      "cell_type": "markdown",
      "metadata": {},
      "source": [
        "## Model Parameters"
      ]
    },
    {
      "cell_type": "code",
      "execution_count": 22,
      "metadata": {
        "colab": {
          "base_uri": "https://localhost:8080/"
        },
        "id": "_EmSVKPBTTdy",
        "outputId": "64127b0c-ff9f-47cb-8b96-b4ea7910511f"
      },
      "outputs": [
        {
          "name": "stdout",
          "output_type": "stream",
          "text": [
            "Model: \"sequential\"\n",
            "_________________________________________________________________\n",
            " Layer (type)                Output Shape              Param #   \n",
            "=================================================================\n",
            " input_11x1 (Dense)          (None, 50)                600       \n",
            "                                                                 \n",
            " dense_0 (Dense)             (None, 50)                2550      \n",
            "                                                                 \n",
            " dense_1 (Dense)             (None, 50)                2550      \n",
            "                                                                 \n",
            " dense_2 (Dense)             (None, 50)                2550      \n",
            "                                                                 \n",
            " autoenc (Dense)             (None, 6)                 306       \n",
            "                                                                 \n",
            " output (Dense)              (None, 2)                 14        \n",
            "                                                                 \n",
            "=================================================================\n",
            "Total params: 8,570\n",
            "Trainable params: 8,570\n",
            "Non-trainable params: 0\n",
            "_________________________________________________________________\n"
          ]
        }
      ],
      "source": [
        "##################\n",
        "activation = \"sigmoid\"\n",
        "outputActivation = \"sigmoid\"  # This should not change\n",
        "hiddenExpansionSize = 50\n",
        "denseHiddenLayers = 3\n",
        "autoencoderCompressionSize = 6\n",
        "##################\n",
        "\n",
        "# Andrew's model arch notes:\n",
        "# - do we progressively collapse when autoencoding or dense map straight to it?\n",
        "# - mess around with dropout layers to reduce overfitting\n",
        "\n",
        "checkNotSubmitting()\n",
        "\n",
        "layers = []\n",
        "layers.append(tf.keras.layers.Dense(hiddenExpansionSize, input_shape=(\n",
        "    X.shape[1],), activation=activation, name=f\"input_{X.shape[1]}x1\"))\n",
        "for i in range(denseHiddenLayers):\n",
        "    layers.append(tf.keras.layers.Dense(hiddenExpansionSize,\n",
        "                  activation=activation, name=f\"dense_{i}\"))\n",
        "layers.append(tf.keras.layers.Dense(autoencoderCompressionSize,\n",
        "              activation=activation, name=\"autoenc\"))\n",
        "layers.append(tf.keras.layers.Dense(\n",
        "    2, activation=outputActivation, name=\"output\"))\n",
        "\n",
        "dnn = tf.keras.Sequential(layers)\n",
        "dnn.build()\n",
        "dnn.summary()\n",
        "\n",
        "nnDefaultWeights = dnn.get_weights()\n"
      ]
    },
    {
      "cell_type": "markdown",
      "metadata": {},
      "source": [
        "## Neural network compilation and training"
      ]
    },
    {
      "cell_type": "code",
      "execution_count": 23,
      "metadata": {
        "id": "q_F-4vegAVE2"
      },
      "outputs": [
        {
          "ename": "ValueError",
          "evalue": "Failed to convert a NumPy array to a Tensor (Unsupported object type int).",
          "output_type": "error",
          "traceback": [
            "\u001b[0;31m---------------------------------------------------------------------------\u001b[0m",
            "\u001b[0;31mValueError\u001b[0m                                Traceback (most recent call last)",
            "\u001b[0;32m<ipython-input-23-c62ce2afca3b>\u001b[0m in \u001b[0;36m<module>\u001b[0;34m\u001b[0m\n\u001b[1;32m     15\u001b[0m \u001b[0;34m\u001b[0m\u001b[0m\n\u001b[1;32m     16\u001b[0m     \u001b[0mdnn\u001b[0m\u001b[0;34m.\u001b[0m\u001b[0mset_weights\u001b[0m\u001b[0;34m(\u001b[0m\u001b[0mnnDefaultWeights\u001b[0m\u001b[0;34m)\u001b[0m  \u001b[0;31m# Reset if we already fit\u001b[0m\u001b[0;34m\u001b[0m\u001b[0;34m\u001b[0m\u001b[0m\n\u001b[0;32m---> 17\u001b[0;31m     \u001b[0mdnn\u001b[0m\u001b[0;34m.\u001b[0m\u001b[0mfit\u001b[0m\u001b[0;34m(\u001b[0m\u001b[0mX_train\u001b[0m\u001b[0;34m,\u001b[0m \u001b[0my_train\u001b[0m\u001b[0;34m,\u001b[0m \u001b[0mbatch_size\u001b[0m\u001b[0;34m=\u001b[0m\u001b[0mbatchSize\u001b[0m\u001b[0;34m,\u001b[0m \u001b[0mepochs\u001b[0m\u001b[0;34m=\u001b[0m\u001b[0mepochs\u001b[0m\u001b[0;34m)\u001b[0m\u001b[0;34m\u001b[0m\u001b[0;34m\u001b[0m\u001b[0m\n\u001b[0m\u001b[1;32m     18\u001b[0m \u001b[0;34m\u001b[0m\u001b[0m\n\u001b[1;32m     19\u001b[0m     \u001b[0mnnMetrics\u001b[0m \u001b[0;34m=\u001b[0m \u001b[0mdnn\u001b[0m\u001b[0;34m.\u001b[0m\u001b[0mevaluate\u001b[0m\u001b[0;34m(\u001b[0m\u001b[0mX_test\u001b[0m\u001b[0;34m,\u001b[0m \u001b[0my_test\u001b[0m\u001b[0;34m)\u001b[0m\u001b[0;34m\u001b[0m\u001b[0;34m\u001b[0m\u001b[0m\n",
            "\u001b[0;32m~/.local/lib/python3.8/site-packages/keras/utils/traceback_utils.py\u001b[0m in \u001b[0;36merror_handler\u001b[0;34m(*args, **kwargs)\u001b[0m\n\u001b[1;32m     68\u001b[0m             \u001b[0;31m# To get the full stack trace, call:\u001b[0m\u001b[0;34m\u001b[0m\u001b[0;34m\u001b[0m\u001b[0;34m\u001b[0m\u001b[0m\n\u001b[1;32m     69\u001b[0m             \u001b[0;31m# `tf.debugging.disable_traceback_filtering()`\u001b[0m\u001b[0;34m\u001b[0m\u001b[0;34m\u001b[0m\u001b[0;34m\u001b[0m\u001b[0m\n\u001b[0;32m---> 70\u001b[0;31m             \u001b[0;32mraise\u001b[0m \u001b[0me\u001b[0m\u001b[0;34m.\u001b[0m\u001b[0mwith_traceback\u001b[0m\u001b[0;34m(\u001b[0m\u001b[0mfiltered_tb\u001b[0m\u001b[0;34m)\u001b[0m \u001b[0;32mfrom\u001b[0m \u001b[0;32mNone\u001b[0m\u001b[0;34m\u001b[0m\u001b[0;34m\u001b[0m\u001b[0m\n\u001b[0m\u001b[1;32m     71\u001b[0m         \u001b[0;32mfinally\u001b[0m\u001b[0;34m:\u001b[0m\u001b[0;34m\u001b[0m\u001b[0;34m\u001b[0m\u001b[0m\n\u001b[1;32m     72\u001b[0m             \u001b[0;32mdel\u001b[0m \u001b[0mfiltered_tb\u001b[0m\u001b[0;34m\u001b[0m\u001b[0;34m\u001b[0m\u001b[0m\n",
            "\u001b[0;32m~/.local/lib/python3.8/site-packages/tensorflow/python/framework/constant_op.py\u001b[0m in \u001b[0;36mconvert_to_eager_tensor\u001b[0;34m(value, ctx, dtype)\u001b[0m\n\u001b[1;32m    100\u001b[0m       \u001b[0mdtype\u001b[0m \u001b[0;34m=\u001b[0m \u001b[0mdtypes\u001b[0m\u001b[0;34m.\u001b[0m\u001b[0mas_dtype\u001b[0m\u001b[0;34m(\u001b[0m\u001b[0mdtype\u001b[0m\u001b[0;34m)\u001b[0m\u001b[0;34m.\u001b[0m\u001b[0mas_datatype_enum\u001b[0m\u001b[0;34m\u001b[0m\u001b[0;34m\u001b[0m\u001b[0m\n\u001b[1;32m    101\u001b[0m   \u001b[0mctx\u001b[0m\u001b[0;34m.\u001b[0m\u001b[0mensure_initialized\u001b[0m\u001b[0;34m(\u001b[0m\u001b[0;34m)\u001b[0m\u001b[0;34m\u001b[0m\u001b[0;34m\u001b[0m\u001b[0m\n\u001b[0;32m--> 102\u001b[0;31m   \u001b[0;32mreturn\u001b[0m \u001b[0mops\u001b[0m\u001b[0;34m.\u001b[0m\u001b[0mEagerTensor\u001b[0m\u001b[0;34m(\u001b[0m\u001b[0mvalue\u001b[0m\u001b[0;34m,\u001b[0m \u001b[0mctx\u001b[0m\u001b[0;34m.\u001b[0m\u001b[0mdevice_name\u001b[0m\u001b[0;34m,\u001b[0m \u001b[0mdtype\u001b[0m\u001b[0;34m)\u001b[0m\u001b[0;34m\u001b[0m\u001b[0;34m\u001b[0m\u001b[0m\n\u001b[0m\u001b[1;32m    103\u001b[0m \u001b[0;34m\u001b[0m\u001b[0m\n\u001b[1;32m    104\u001b[0m \u001b[0;34m\u001b[0m\u001b[0m\n",
            "\u001b[0;31mValueError\u001b[0m: Failed to convert a NumPy array to a Tensor (Unsupported object type int)."
          ]
        }
      ],
      "source": [
        "#####################\n",
        "# TRAINING PARAMETERS\n",
        "learningRate = 0.001\n",
        "#lossFunc = \"binary_crossentropy\"\n",
        "lossFunc = \"mae\"\n",
        "epochs = 30\n",
        "batchSize = 1000\n",
        "#####################\n",
        "\n",
        "if not testSubmission:\n",
        "    optimizer = tf.keras.optimizers.Adam(learning_rate=learningRate)\n",
        "    #optimizer = tf.keras.optimizers.SGD()\n",
        "\n",
        "    dnn.compile(optimizer, loss=lossFunc, metrics=[\"accuracy\"])\n",
        "\n",
        "    dnn.set_weights(nnDefaultWeights)  # Reset if we already fit\n",
        "    dnn.fit(X_train, y_train, batch_size=batchSize, epochs=epochs)\n",
        "\n",
        "    nnMetrics = dnn.evaluate(X_test, y_test)\n",
        "    print(f\"NN evaluated accuracy: {nnMetrics}\")\n",
        "else:\n",
        "    predictions = dnn.predict(X_test.drop(\n",
        "        columns=[\"PassengerId\"]), batch_size=batchSize)\n",
        "    # We have 2 output nodes, we want to take the index of the node with greater activation\n",
        "    predictionsBinary = np.argmax(predictions, axis=1)\n",
        "    predictionsBinary = 1 - predictionsBinary  # Invert the result\n",
        "    outData = pd.DataFrame()\n",
        "    outData[\"PassengerId\"] = X_test[\"PassengerId\"]\n",
        "    outData[\"Transported\"] = predictionsBinary.astype(bool)\n",
        "    outData.to_csv(\"results.csv\", index=False)\n"
      ]
    },
    {
      "cell_type": "code",
      "execution_count": null,
      "metadata": {},
      "outputs": [],
      "source": []
    }
  ],
  "metadata": {
    "colab": {
      "collapsed_sections": [],
      "include_colab_link": true,
      "provenance": []
    },
    "kernelspec": {
      "display_name": "Python 3.6.8 64-bit",
      "language": "python",
      "name": "python3"
    },
    "language_info": {
      "codemirror_mode": {
        "name": "ipython",
        "version": 3
      },
      "file_extension": ".py",
      "mimetype": "text/x-python",
      "name": "python",
      "nbconvert_exporter": "python",
      "pygments_lexer": "ipython3",
      "version": "3.8.10"
    },
    "vscode": {
      "interpreter": {
        "hash": "916dbcbb3f70747c44a77c7bcd40155683ae19c65e1c03b4aa3499c5328201f1"
      }
    }
  },
  "nbformat": 4,
  "nbformat_minor": 0
}
