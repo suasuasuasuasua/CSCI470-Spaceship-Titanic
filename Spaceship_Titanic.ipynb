{
  "nbformat": 4,
  "nbformat_minor": 0,
  "metadata": {
    "colab": {
      "provenance": [],
      "collapsed_sections": []
    },
    "kernelspec": {
      "name": "python3",
      "display_name": "Python 3"
    },
    "language_info": {
      "name": "python"
    }
  },
  "cells": [
    {
      "cell_type": "code",
      "execution_count": null,
      "metadata": {
        "id": "dxBeBwllSve-"
      },
      "outputs": [],
      "source": [
        "# Install packages\n",
        "!pip install numpy\n",
        "!pip install pandas\n",
        "!pip install scikit-learn\n",
        "!pip install tensorflow"
      ]
    },
    {
      "cell_type": "code",
      "source": [
        "# Imports\n",
        "import numpy as np\n",
        "import pandas as pd\n",
        "from sklearn.model_selection import train_test_split\n",
        "from sklearn.decomposition import PCA\n",
        "from sklearn.neighbors import KNeighborsClassifier\n",
        "import tensorflow as tf\n",
        "import matplotlib\n",
        "import matplotlib.pyplot as plt"
      ],
      "metadata": {
        "id": "QFmpN-PJUB_E"
      },
      "execution_count": 68,
      "outputs": []
    },
    {
      "cell_type": "code",
      "source": [
        "# Scrap me: test.csv doesn't include the transported column! Should always be false\n",
        "loadSeparateTestCsv = False # Set to False if we want to only train and test on the train csv\n",
        "\n",
        "# We might want to mount a shared google drive so we don't have to reupload\n",
        "# everytime the session expires\n",
        "\n",
        "trainData = pd.read_csv(\"train.csv\")\n",
        "data = None\n",
        "testData = None\n",
        "if loadSeparateTestCsv:\n",
        "  testData = pd.read_csv(\"test.csv\")\n",
        "  data = pd.concat([trainData, testData])\n",
        "else:\n",
        "  data = trainData\n",
        "\n",
        "# FEATURE MODIFICATION SETTINGS\n",
        "dropCols = [\"PassengerId\", \"Name\"] # Columns to drop entirely\n",
        "binaryCols = [\"CryoSleep\", \"VIP\", \"Transported\"] # Binary columns to replace with 1's and 0's\n",
        "categoricalCols = [] # Category columns that are commonly shared, dummies are built from these\n",
        "# Ok my idea for this is that for the fairly unique columns we should generate a numerical\n",
        "# id for each unique entry, then replace the column with the id. Generating dummies with these\n",
        "# just leads to a feature explosion.\n",
        "uniqueGeneratorCols = [\"Cabin\", \"HomePlanet\", \"Destination\"]\n",
        "###############################\n",
        "\n",
        "# Not sure why these features have NaN's, but we can (safely?) replace them with 0's.\n",
        "data[\"CryoSleep\"] = data[\"CryoSleep\"].fillna(value=False)\n",
        "data[\"VIP\"] = data[\"VIP\"].fillna(value=False)\n",
        "data[\"VRDeck\"] = data[\"VRDeck\"].fillna(value=0)\n",
        "data[\"ShoppingMall\"] = data[\"ShoppingMall\"].fillna(value=0)\n",
        "data[\"RoomService\"] = data[\"RoomService\"].fillna(value=0)\n",
        "data[\"FoodCourt\"] = data[\"FoodCourt\"].fillna(value=0)\n",
        "data[\"Spa\"] = data[\"Spa\"].fillna(value=0)\n",
        "# weird ones\n",
        "data[\"Cabin\"] = data[\"Cabin\"].fillna(value=\"UNKNOWN\")\n",
        "data[\"HomePlanet\"] = data[\"HomePlanet\"].fillna(value=\"UNKNOWN\")\n",
        "data[\"Destination\"] = data[\"Destination\"].fillna(value=\"UNKNOWN\")\n",
        "data[\"Age\"] = data[\"Age\"].fillna(value=-1)\n",
        "\n",
        "data = data.drop(columns=dropCols)\n",
        "for c in binaryCols:\n",
        "  data[c] = data[c].astype(int)\n",
        "data = pd.get_dummies(data, columns=categoricalCols)\n",
        "# Generate unique ids per column\n",
        "for c in uniqueGeneratorCols:\n",
        "  data[c] = data[c].astype(\"category\").cat.rename_categories(range(data[c].nunique()))\n",
        "\n",
        "# We don't want any nan data\n",
        "assert (not data.isnull().values.any())\n",
        "\n",
        "yCol = \"Transported\"\n",
        "X = data.drop(columns=yCol)\n",
        "y = data[yCol]\n",
        "X_train, X_test, y_train, y_test = None, None, None, None\n",
        "if testData is None:\n",
        "  X_train, X_test, y_train, y_test = train_test_split(X, y)\n",
        "else:\n",
        "  X_train = X[: trainData.shape[0]]\n",
        "  X_test = X[trainData.shape[0] :]\n",
        "  y_train = y[: trainData.shape[0]]\n",
        "  y_test = y[trainData.shape[0] :]\n",
        "\n",
        "#print(data.head())\n",
        "#print(data.describe())"
      ],
      "metadata": {
        "id": "katpLGf8TMh_"
      },
      "execution_count": 77,
      "outputs": []
    },
    {
      "cell_type": "code",
      "source": [
        "# Data visualization\n",
        "# tSNE or PCA here\n",
        "\n",
        "pcaComps = 2\n",
        "pca = PCA(n_components=pcaComps)\n",
        "pca_train = pca.fit_transform(X_train, y_train)\n",
        "pca_test = pca.transform(X_test)\n",
        "\n",
        "if pcaComps == 2:\n",
        "  plt.scatter(pca_train[:, 0], pca_train[:, 1], c=y_train)\n",
        "plt.title(f\"PCA Visualization ({pcaComps} component)\")\n",
        "plt.show()"
      ],
      "metadata": {
        "id": "EvJyjTAtTOVb",
        "colab": {
          "base_uri": "https://localhost:8080/",
          "height": 281
        },
        "outputId": "d61e252c-2159-47ca-93bf-01c116ce736b"
      },
      "execution_count": 78,
      "outputs": [
        {
          "output_type": "display_data",
          "data": {
            "text/plain": [
              "<Figure size 432x288 with 1 Axes>"
            ],
            "image/png": "[encoded data removed]"
          },
          "metadata": {
            "needs_background": "light"
          }
        }
      ]
    },
    {
      "cell_type": "code",
      "source": [
        "# Feature selection\n",
        "\n",
        "# can try filter, wrapper, and embedded methods: https://elearning.mines.edu/courses/40460/pages/instructional-learning-materials-feature-selection?module_item_id=529456\n",
        "# todo..."
      ],
      "metadata": {
        "id": "vcvjyOF_I8Bn"
      },
      "execution_count": null,
      "outputs": []
    },
    {
      "cell_type": "code",
      "source": [
        "# Feature extraction\n",
        "\n",
        "# we don't want to use tSNE, consider spectral embedding? maybe linear discriminant analysis?\n",
        "# todo..."
      ],
      "metadata": {
        "id": "MLlUvc4JI8DT"
      },
      "execution_count": null,
      "outputs": []
    },
    {
      "cell_type": "code",
      "source": [
        "# Now we have the reduced dataset with high mutual information between each feature, time to run some models"
      ],
      "metadata": {
        "id": "GzBQyzFzTQH1"
      },
      "execution_count": null,
      "outputs": []
    },
    {
      "cell_type": "code",
      "source": [
        "# knn or svm?"
      ],
      "metadata": {
        "id": "dkIsRYbXJHhx"
      },
      "execution_count": null,
      "outputs": []
    },
    {
      "cell_type": "code",
      "source": [
        "# neural net\n",
        "# (try with reduced data and with full dataset)"
      ],
      "metadata": {
        "id": "_EmSVKPBTTdy"
      },
      "execution_count": null,
      "outputs": []
    }
  ]
}