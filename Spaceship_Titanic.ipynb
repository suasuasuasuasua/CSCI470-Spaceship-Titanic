{
  "cells": [
    {
      "cell_type": "code",
      "execution_count": 1,
      "metadata": {
        "colab": {
          "base_uri": "https://localhost:8080/"
        },
        "id": "dxBeBwllSve-",
        "outputId": "1ba6f378-4b2b-47ee-9ed0-0b77ebdab36c"
      },
      "outputs": [],
      "source": [
        "# Just comment and uncomment as necessary\n",
        "# The output is kinda annoying and crowded\n",
        "# Install packages\n",
        "# !pip install numpy\n",
        "# !pip install pandas\n",
        "# !pip install scikit-learn\n",
        "# !pip install tensorflow\n"
      ]
    },
    {
      "cell_type": "code",
      "execution_count": 2,
      "metadata": {
        "id": "QFmpN-PJUB_E"
      },
      "outputs": [],
      "source": [
        "# Imports\n",
        "import numpy as np\n",
        "import pandas as pd\n",
        "import sklearn as sk\n",
        "from sklearn.model_selection import train_test_split\n",
        "from sklearn.decomposition import PCA\n",
        "from sklearn.neighbors import KNeighborsClassifier\n",
        "import tensorflow as tf\n",
        "import matplotlib\n",
        "import matplotlib.pyplot as plt\n"
      ]
    },
    {
      "cell_type": "code",
      "execution_count": 3,
      "metadata": {},
      "outputs": [],
      "source": [
        "############## Magic Constants ################\n",
        "# Filename settings\n",
        "FILE_PREFIX = \"./data/\"\n",
        "train_filename = FILE_PREFIX + \"train.csv\"\n",
        "test_filename = FILE_PREFIX + \"test.csv\"\n",
        "\n",
        "# Scrap me: test.csv doesn't include the transported column! Should always be false\n",
        "# Set to False if we want to only train and test on the train csv\n",
        "loadSeparateTestCsv = False\n",
        "\n",
        "# Set to true when we want to generate a submission for kaggle\n",
        "testSubmission = False\n",
        "\n",
        "# Common utility functions\n",
        "def checkNotSubmitting():\n",
        "    assert not testSubmission, \"Don't run this cell if creating a submission\"\n",
        "################################################"
      ]
    },
    {
      "cell_type": "code",
      "execution_count": 4,
      "metadata": {
        "id": "katpLGf8TMh_"
      },
      "outputs": [],
      "source": [
        "\n",
        "# We might want to mount a shared google drive so we don't have to reupload\n",
        "# everytime the session expires\n",
        "trainData = pd.read_csv(train_filename)\n",
        "data = None\n",
        "testData = None\n",
        "if loadSeparateTestCsv:\n",
        "    testData = pd.read_csv(test_filename)\n",
        "    data = pd.concat([trainData, testData])\n",
        "else:\n",
        "    data = trainData\n",
        "\n",
        "if testSubmission:\n",
        "    data = pd.read_csv(test_filename)\n",
        "\n",
        "# FEATURE MODIFICATION SETTINGS\n",
        "dropCols = [\"PassengerId\", \"Name\"]  # Columns to drop entirely\n",
        "# Binary columns to replace with 1's and 0's\n",
        "binaryCols = [\"CryoSleep\", \"VIP\", \"Transported\"]\n",
        "# Category columns that are commonly shared, dummies are built from these\n",
        "categoricalCols = []\n",
        "# Ok my idea for this is that for the fairly unique columns we should generate a numerical\n",
        "# id for each unique entry, then replace the column with the id. Generating dummies with these\n",
        "# just leads to a feature explosion.\n",
        "uniqueGeneratorCols = [\"Cabin\", \"HomePlanet\", \"Destination\"]\n",
        "###############################\n",
        "\n",
        "# Not sure why these features have NaN's, but we can (safely?) replace them with 0's.\n",
        "data[\"CryoSleep\"] = data[\"CryoSleep\"].fillna(value=False)\n",
        "data[\"VIP\"] = data[\"VIP\"].fillna(value=False)\n",
        "data[\"VRDeck\"] = data[\"VRDeck\"].fillna(value=0)\n",
        "data[\"ShoppingMall\"] = data[\"ShoppingMall\"].fillna(value=0)\n",
        "data[\"RoomService\"] = data[\"RoomService\"].fillna(value=0)\n",
        "data[\"FoodCourt\"] = data[\"FoodCourt\"].fillna(value=0)\n",
        "data[\"Spa\"] = data[\"Spa\"].fillna(value=0)\n",
        "# weird ones\n",
        "data[\"Cabin\"] = data[\"Cabin\"].fillna(value=\"UNKNOWN\")\n",
        "data[\"HomePlanet\"] = data[\"HomePlanet\"].fillna(value=\"UNKNOWN\")\n",
        "data[\"Destination\"] = data[\"Destination\"].fillna(value=\"UNKNOWN\")\n",
        "data[\"Age\"] = data[\"Age\"].fillna(value=-1)\n",
        "\n",
        "# test.csv doesn't have the transported column\n",
        "if testSubmission and \"Transported\" in binaryCols:\n",
        "    binaryCols.remove(\"Transported\")\n",
        "# We want to keep the passengerIds for submission\n",
        "if testSubmission and \"PassengerId\" in dropCols:\n",
        "    dropCols.remove(\"PassengerId\")\n",
        "\n",
        "data = data.drop(columns=dropCols)\n",
        "for c in binaryCols:\n",
        "    data[c] = data[c].astype(int)\n",
        "data = pd.get_dummies(data, columns=categoricalCols)\n",
        "# Generate unique ids per column\n",
        "for c in uniqueGeneratorCols:\n",
        "    data[c] = data[c].astype(\"category\").cat.rename_categories(\n",
        "        range(data[c].nunique()))\n",
        "\n",
        "# We don't want any nan data\n",
        "assert (not data.isnull().values.any())\n",
        "\n",
        "yCol = \"Transported\"\n",
        "X, y = None, None\n",
        "if not testSubmission:\n",
        "    X = data.drop(columns=yCol)\n",
        "    y = data[yCol]\n",
        "else:\n",
        "    X = data\n",
        "\n",
        "X_train, X_test, y_train, y_test = None, None, None, None\n",
        "if not testSubmission:\n",
        "    if testData is None:\n",
        "        X_train, X_test, y_train, y_test = train_test_split(X, y)\n",
        "    else:\n",
        "        X_train = X[: trainData.shape[0]]\n",
        "        X_test = X[trainData.shape[0]:]\n",
        "        y_train = y[: trainData.shape[0]]\n",
        "        y_test = y[trainData.shape[0]:]\n",
        "else:\n",
        "    X_test = X\n",
        "\n",
        "# print(data.head())\n",
        "# print(data.describe())\n"
      ]
    },
    {
      "cell_type": "code",
      "execution_count": 5,
      "metadata": {
        "colab": {
          "base_uri": "https://localhost:8080/",
          "height": 281
        },
        "id": "EvJyjTAtTOVb",
        "outputId": "40083b46-0b48-4373-dcf0-524075007ec8"
      },
      "outputs": [
        {
          "data": {
            "image/png": "[encoded data removed]",
            "text/plain": [
              "<Figure size 432x288 with 1 Axes>"
            ]
          },
          "metadata": {},
          "output_type": "display_data"
        }
      ],
      "source": [
        "# Data visualization\n",
        "# tSNE or PCA here\n",
        "\n",
        "checkNotSubmitting()\n",
        "\n",
        "pcaComps = 2\n",
        "pca = PCA(n_components=pcaComps)\n",
        "pca_train = pca.fit_transform(X_train, y_train)\n",
        "pca_test = pca.transform(X_test)\n",
        "\n",
        "if pcaComps == 2:\n",
        "    plt.scatter(pca_train[:, 0], pca_train[:, 1], c=y_train)\n",
        "plt.title(f\"PCA Visualization ({pcaComps} component)\")\n",
        "plt.show()\n",
        "\n",
        "# Feature importance graphing\n",
        "# todo\n",
        "estimators = 100  # todo: grid search me!\n",
        "#gbc = GradientBoostingClassifier(n_estimators=100)\n",
        "#gbc.fit(X_train, y_train)\n",
        "# todo: render the important features\n",
        "# look at my roommates code here: https://github.com/justincdavis/BowlGamesNN/blob/main/CFBowlGamesNN.ipynb\n"
      ]
    },
    {
      "cell_type": "code",
      "execution_count": null,
      "metadata": {},
      "outputs": [],
      "source": []
    },
    {
      "cell_type": "code",
      "execution_count": 9,
      "metadata": {
        "id": "vcvjyOF_I8Bn"
      },
      "outputs": [],
      "source": [
        "# Feature selection\n",
        "\n",
        "from sklearn.linear_model import LinearRegression\n",
        "from sklearn.feature_selection import SelectKBest\n",
        "from sklearn.metrics import mean_squared_error\n",
        "from sklearn.preprocessing import StandardScaler\n",
        "from sklearn.naive_bayes import GaussianNB\n",
        "from sklearn.metrics import f1_score\n",
        "\n",
        "checkNotSubmitting()\n",
        "\n",
        "# can try filter, wrapper, and embedded methods: https://elearning.mines.edu/courses/40460/pages/instructional-learning-materials-feature-selection?module_item_id=529456\n",
        "# todo...\n",
        "\n",
        "### Notes ###\n",
        "# Justin: I am super referencing homework 4A Feature Selection here\n",
        "#         Not sure if everything will be fine as is, but we'll see\n",
        "# TODO Make it better...\n",
        "#      We can try different constants and metrics and models\n",
        "\n",
        "\n",
        "# Create a StandardScalar to standardize the passenger features\n",
        "scalar = sk.preprocessing.StandardScaler().fit(X=X_train)\n",
        "# XT_train and XT_test are like X_train and X_test,\n",
        "#  except that they are normalized.\n",
        "# Just didn't want to change the original values\n",
        "XT_train = scalar.transform(X=X_train)\n",
        "XT_test = scalar.transform(X=X_test)\n"
      ]
    },
    {
      "cell_type": "code",
      "execution_count": 10,
      "metadata": {},
      "outputs": [
        {
          "name": "stdout",
          "output_type": "stream",
          "text": [
            "---------------------------------Mutual Information-------------------------------------\n",
            "Model: <class 'sklearn.neighbors._classification.KNeighborsClassifier'>\n",
            "The lowest MSE for the MI selected features is 0.16122104617272587 with k = 10\n",
            "The f1 score is 0.8387783089015257\n",
            "\n",
            "The lowest MSE for on the test data is 0.2125114995400184 with k = 6\n",
            "The f1 score is 0.7865654887172076\n",
            "\n",
            "Model: <class 'sklearn.naive_bayes.GaussianNB'>\n",
            "The lowest MSE for the MI selected features is 0.2813314925602086 with k = 1\n",
            "The f1 score is 0.7120329402068715\n",
            "\n",
            "The lowest MSE for on the test data is 0.2828886844526219 with k = 1\n",
            "The f1 score is 0.7109496474301724\n",
            "\n"
          ]
        }
      ],
      "source": [
        "print(f\"---------------------------------Mutual Information-------------------------------------\")\n",
        "\n",
        "# Create set of models to estimate on\n",
        "# TODO: Figure out more models?\n",
        "model_estimators = [KNeighborsClassifier, GaussianNB]\n",
        "\n",
        "# Select the best features based on mutual information score from the training data,\n",
        "#  then transform XT_train and XT_test into the new subset of selected features\n",
        "for model in model_estimators:\n",
        "    # Set up tracker variables\n",
        "    best_k_MI = 0\n",
        "    best_k_mse = 0\n",
        "    best_predictions_MI = np.zeros(1)\n",
        "    best_predictions_mse = np.zeros(1)\n",
        "    lowest_mse_MI = 1\n",
        "    lowest_mse = 1\n",
        "\n",
        "    max_k = 11\n",
        "    for k in range(1, max_k):\n",
        "        mutual_information_transformer = sk.feature_selection.SelectKBest(\n",
        "            score_func=sk.feature_selection.mutual_info_regression,\n",
        "            k=k\n",
        "        ).fit(X=XT_train, y=y_train)\n",
        "        MI_X_train = mutual_information_transformer.transform(X=XT_train)\n",
        "        MI_X_test = mutual_information_transformer.transform(X=XT_test)\n",
        "\n",
        "        # Print out the mutual informations\n",
        "        # Note: \n",
        "        #   Just commenting this out because it's crowds the terminal\n",
        "        #       Looks like this works, but I'm worried about using data.columns\n",
        "        # for feature, importance in zip(data.columns, mutual_information_transformer.scores_):\n",
        "        #     print(f\"The MI score for {feature} is {importance}\")\n",
        "\n",
        "        # Create model and estimate\n",
        "        miEst = model().fit(X=MI_X_train, y=y_train)\n",
        "        train_predictions = miEst.predict(X=MI_X_train)\n",
        "        test_predictions = miEst.predict(X=MI_X_test)\n",
        "\n",
        "        mse_MI = mean_squared_error(y_true=y_train, y_pred=train_predictions)\n",
        "        mse = mean_squared_error(y_true=y_test, y_pred=test_predictions)\n",
        "        if (mse_MI < lowest_mse_MI):\n",
        "            best_k_MI = k\n",
        "            lowest_mse_MI = mse_MI\n",
        "            best_predictions_MI = train_predictions\n",
        "        if (mse < lowest_mse):\n",
        "            best_k_mse = k\n",
        "            lowest_mse = mse\n",
        "            best_predictions_mse = test_predictions\n",
        "\n",
        "        # Note: \n",
        "        #   uncomment if you want to see the individual mutual information scores\n",
        "        # print(f\"The mean squared error when training on the MI selected features is {mse_MI}.\")\n",
        "        # print(f\"When testing on the test data, the mean squared error is {mse}\\n\")\n",
        "\n",
        "    print(f\"Model: {model}\")\n",
        "    print(\n",
        "        f\"The lowest MSE for the MI selected features is {lowest_mse_MI} with k = {best_k_MI}\")\n",
        "    print(\n",
        "        f\"The f1 score is {f1_score(y_train, best_predictions_MI, average='weighted')}\\n\")\n",
        "    print(\n",
        "        f\"The lowest MSE for on the test data is {lowest_mse} with k = {best_k_mse}\")\n",
        "    print(\n",
        "        f\"The f1 score is {f1_score(y_test, best_predictions_mse, average='weighted')}\\n\")\n"
      ]
    },
    {
      "cell_type": "code",
      "execution_count": null,
      "metadata": {},
      "outputs": [],
      "source": []
    },
    {
      "cell_type": "code",
      "execution_count": null,
      "metadata": {},
      "outputs": [],
      "source": [
        "\n",
        "print(f\"---------------------------------Recursive Elimination----------------------------------\")\n",
        "# Use recursive feature elimination (RFE) object to determine the k features to select\n",
        "# from X_train using a step of 2\n",
        "rfeEst = LinearRegression()\n",
        "\n",
        "rfe_transformer = sk.feature_selection.RFE(\n",
        "    estimator=rfeEst, step=2).fit(X=XT_train, y=y_train)\n",
        "rfe_X_train = rfe_transformer.transform(X=XT_train)\n",
        "rfe_X_test = rfe_transformer.transform(X=XT_test)\n",
        "\n",
        "rfeEst = LinearRegression().fit(rfe_X_train, y_train)\n",
        "\n",
        "print(\n",
        "    f\"The mean squared error when training on the RFE selected features is {mean_squared_error(y_train, rfeEst.predict(rfe_X_train))}.\")\n",
        "print(\n",
        "    f\"\\nWhen testing on the test data, the mean squared error is {mean_squared_error(y_test, rfeEst.predict(rfe_X_test))}\")\n",
        "\n",
        "# TODO: Did some weird indexing into data for columns 0-10 (11 columns)\n",
        "#       The last column (transported) shouldn't be here? Idk.\n",
        "print(\n",
        "    f\"The most important features as determined by RFE were {list(data.columns[:11][rfe_transformer.support_])}\")\n"
      ]
    },
    {
      "cell_type": "code",
      "execution_count": null,
      "metadata": {},
      "outputs": [],
      "source": [
        "print(f\"---------------------------------Lasso Embedded Method----------------------------------\")\n",
        "lassoEst = sk.linear_model.LassoCV(n_alphas=10).fit(X=XT_train, y=y_train)\n",
        "for feature, coef in zip(data.columns, lassoEst.coef_):\n",
        "    print(\n",
        "        f\"The magniture of the feature coefficient for {feature} is {abs(coef)}.\")\n",
        "\n",
        "print(\n",
        "    f\"\\nThe mean squared error when training using lasso is {mean_squared_error(y_train, lassoEst.predict(XT_train))}.\")\n",
        "print(\n",
        "    f\"When testing on the test data, the mean squared error is {mean_squared_error(y_test, lassoEst.predict(XT_test))}\")\n"
      ]
    },
    {
      "cell_type": "code",
      "execution_count": null,
      "metadata": {
        "id": "MLlUvc4JI8DT"
      },
      "outputs": [],
      "source": [
        "# Feature extraction\n",
        "\n",
        "from sklearn.metrics import f1_score\n",
        "from sklearn.svm import LinearSVC\n",
        "from sklearn.manifold import SpectralEmbedding\n",
        "checkNotSubmitting()\n",
        "\n",
        "# we don't want to use tSNE, consider spectral embedding? maybe linear discriminant analysis?\n",
        "# todo...\n",
        "\n",
        "# Justin: This is copied from homework somewhat\n",
        "#         We can toy around to make it better, but this is a start\n",
        "spectral_transformer = SpectralEmbedding().fit(X=X_train, y=y_train)\n",
        "spectral_embedding = spectral_transformer.embedding_\n",
        "plt.scatter(spectral_embedding[:, 0], spectral_embedding[:, 1], c=y_train)\n",
        "plt.title(\"Spectral Embedding\")\n",
        "plt.show()\n",
        "\n",
        "X_complete = pd.concat([X_train, X_test])\n",
        "size_Xtrain = len(X_train)\n",
        "\n",
        "spectral_model = SpectralEmbedding()\n",
        "spectral_train = spectral_model.fit_transform(\n",
        "    X=X_complete[:size_Xtrain], y=y_train\n",
        ")\n",
        "spectral_test = spectral_model.fit_transform(\n",
        "    X=X_complete[size_Xtrain:], y=y_test\n",
        ")\n",
        "\n",
        "spectral_svc = LinearSVC().fit(X=spectral_train, y=y_train)\n",
        "print(\n",
        "    f\"The Spectral Embedding + Linear SVM scores an F-1 = {f1_score(y_test, spectral_svc.predict(spectral_test)):.3f}.\")\n"
      ]
    },
    {
      "cell_type": "code",
      "execution_count": null,
      "metadata": {
        "id": "GzBQyzFzTQH1"
      },
      "outputs": [],
      "source": [
        "# Now we have the reduced dataset with high mutual information between each feature, time to run some models\n"
      ]
    },
    {
      "cell_type": "code",
      "execution_count": null,
      "metadata": {
        "id": "dkIsRYbXJHhx"
      },
      "outputs": [],
      "source": [
        "# knn or svm?\n",
        "\n",
        "checkNotSubmitting()\n"
      ]
    },
    {
      "cell_type": "code",
      "execution_count": null,
      "metadata": {
        "colab": {
          "base_uri": "https://localhost:8080/"
        },
        "id": "_EmSVKPBTTdy",
        "outputId": "64127b0c-ff9f-47cb-8b96-b4ea7910511f"
      },
      "outputs": [],
      "source": [
        "# Neural network\n",
        "\n",
        "# Model parameters\n",
        "activation = \"sigmoid\"\n",
        "outputActivation = \"sigmoid\"  # This should not change\n",
        "hiddenExpansionSize = 50\n",
        "denseHiddenLayers = 3\n",
        "autoencoderCompressionSize = 6\n",
        "##################\n",
        "\n",
        "# Andrew's model arch notes:\n",
        "# - do we progressively collapse when autoencoding or dense map straight to it?\n",
        "# - mess around with dropout layers to reduce overfitting\n",
        "\n",
        "checkNotSubmitting()\n",
        "\n",
        "layers = []\n",
        "layers.append(tf.keras.layers.Dense(hiddenExpansionSize, input_shape=(\n",
        "    X.shape[1],), activation=activation, name=f\"input_{X.shape[1]}x1\"))\n",
        "for i in range(denseHiddenLayers):\n",
        "    layers.append(tf.keras.layers.Dense(hiddenExpansionSize,\n",
        "                  activation=activation, name=f\"dense_{i}\"))\n",
        "layers.append(tf.keras.layers.Dense(autoencoderCompressionSize,\n",
        "              activation=activation, name=\"autoenc\"))\n",
        "layers.append(tf.keras.layers.Dense(\n",
        "    2, activation=outputActivation, name=\"output\"))\n",
        "\n",
        "dnn = tf.keras.Sequential(layers)\n",
        "dnn.build()\n",
        "dnn.summary()\n",
        "\n",
        "nnDefaultWeights = dnn.get_weights()\n"
      ]
    },
    {
      "cell_type": "code",
      "execution_count": null,
      "metadata": {
        "id": "q_F-4vegAVE2"
      },
      "outputs": [],
      "source": [
        "# Neural network compilation and training\n",
        "\n",
        "# TRAINING PARAMETERS\n",
        "learningRate = 0.001\n",
        "#lossFunc = \"binary_crossentropy\"\n",
        "lossFunc = \"mae\"\n",
        "epochs = 30\n",
        "batchSize = 1000\n",
        "#####################\n",
        "\n",
        "if not testSubmission:\n",
        "    optimizer = tf.keras.optimizers.Adam(learning_rate=learningRate)\n",
        "    #optimizer = tf.keras.optimizers.SGD()\n",
        "\n",
        "    dnn.compile(optimizer, loss=lossFunc, metrics=[\"accuracy\"])\n",
        "\n",
        "    dnn.set_weights(nnDefaultWeights)  # Reset if we already fit\n",
        "    dnn.fit(X_train, y_train, batch_size=batchSize, epochs=epochs)\n",
        "\n",
        "    nnMetrics = dnn.evaluate(X_test, y_test)\n",
        "    print(f\"NN evaluated accuracy: {nnMetrics}\")\n",
        "else:\n",
        "    predictions = dnn.predict(X_test.drop(\n",
        "        columns=[\"PassengerId\"]), batch_size=batchSize)\n",
        "    # We have 2 output nodes, we want to take the index of the node with greater activation\n",
        "    predictionsBinary = np.argmax(predictions, axis=1)\n",
        "    predictionsBinary = 1 - predictionsBinary  # Invert the result\n",
        "    outData = pd.DataFrame()\n",
        "    outData[\"PassengerId\"] = X_test[\"PassengerId\"]\n",
        "    outData[\"Transported\"] = predictionsBinary.astype(bool)\n",
        "    outData.to_csv(\"results.csv\", index=False)\n"
      ]
    },
    {
      "cell_type": "code",
      "execution_count": null,
      "metadata": {},
      "outputs": [],
      "source": []
    }
  ],
  "metadata": {
    "colab": {
      "collapsed_sections": [],
      "include_colab_link": true,
      "provenance": []
    },
    "kernelspec": {
      "display_name": "Python 3.6.8 64-bit",
      "language": "python",
      "name": "python3"
    },
    "language_info": {
      "codemirror_mode": {
        "name": "ipython",
        "version": 3
      },
      "file_extension": ".py",
      "mimetype": "text/x-python",
      "name": "python",
      "nbconvert_exporter": "python",
      "pygments_lexer": "ipython3",
      "version": "3.8.10"
    },
    "vscode": {
      "interpreter": {
        "hash": "916dbcbb3f70747c44a77c7bcd40155683ae19c65e1c03b4aa3499c5328201f1"
      }
    }
  },
  "nbformat": 4,
  "nbformat_minor": 0
}
